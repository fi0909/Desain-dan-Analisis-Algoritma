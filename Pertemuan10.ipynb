{
 "cells": [
  {
   "cell_type": "code",
   "execution_count": 5,
   "metadata": {},
   "outputs": [],
   "source": [
    "import pulp\n",
    "def Lprogram(pers1,pers2,pers3,object):\n",
    "    #inisiate our problem\n",
    "    model = pulp.LpProblem(\"profitMaximissingProblem\", pulp.LpMaximize)\n",
    "    A = pulp.LpVariable ('A',lowBound=0, cat='Integer')\n",
    "    B = pulp.LpVariable ('B',lowBound=0, cat='Integer')\n",
    "    #Objective funcition\n",
    "    model += object[0] *A + object[1] * B, \"Profit\"\n",
    "    #Contraints\n",
    "    model += pers1[0] * A + pers1[1] * B <= pers1[2]\n",
    "    model += pers2[0] * A + pers2[1] * B <= pers2[2]\n",
    "    model += pers3[0] * A + pers3[1] * B <= pers3[2]\n",
    "    #Solve Our Problem\n",
    "    model.solve()\n",
    "    pulp.LpStatus[model.status]\n",
    "    #print our decision variable values\n",
    "    print(A.varValue)\n",
    "    print(B.varValue)\n",
    "    #print our Objective function Value\n",
    "    print(pulp.value(model.objective))\n"
   ]
  },
  {
   "cell_type": "code",
   "execution_count": 6,
   "metadata": {},
   "outputs": [
    {
     "name": "stdout",
     "output_type": "stream",
     "text": [
      "6.0\n",
      "1.0\n",
      "28000.0\n"
     ]
    }
   ],
   "source": [
    "#slide 12-15\n",
    "pers1 = [3,2,20]\n",
    "pers2=[4,3,30]\n",
    "pers3=[4,3,44]\n",
    "object=[4200,2800]\n",
    "Lprogram(pers1,pers2,pers3,object)"
   ]
  },
  {
   "cell_type": "code",
   "execution_count": 8,
   "metadata": {},
   "outputs": [
    {
     "name": "stdout",
     "output_type": "stream",
     "text": [
      "Status: 1\n",
      "Nilai x = 7.4\n",
      "Nilai y = 0.0\n"
     ]
    }
   ],
   "source": [
    "from pulp.constants import LpMinimize\n",
    "import pulp\n",
    "#4x + 3y = 34\n",
    "#Membuat objek masalah\n",
    "model = pulp.LpProblem(name=\"Pemecahan_persamaan\", sense = LpMinimize)\n",
    "# membuat variabel x dan y\n",
    "x = pulp.LpVariable(name = \"x\")\n",
    "y = pulp.LpVariable(name = 'y')\n",
    "#menambahkan batasan\n",
    "model += 5 * x + 1 * y == 37\n",
    "\n",
    "#menyelesaikan masalah\n",
    "model.solve()\n",
    "\n",
    "#menampilkan hasil\n",
    "print(\"Status:\", model.status)\n",
    "print(\"Nilai x =\", x.varValue)\n",
    "print(\"Nilai y =\", y.varValue)"
   ]
  },
  {
   "cell_type": "code",
   "execution_count": 7,
   "metadata": {},
   "outputs": [
    {
     "name": "stdout",
     "output_type": "stream",
     "text": [
      "1000.0\n",
      "2000.0\n",
      "14000.0\n"
     ]
    }
   ],
   "source": [
    "#latihan soal cerita 1\n",
    "\"\"\"\n",
    "persamaan1 = 3x + 4y = 11.000\n",
    "persamaan2 = x + 7y = 15.000\n",
    "ditanya harga 2 x + 6y = ?\n",
    "\"\"\"\n",
    "pers1 = [3,4,11000]\n",
    "pers2 = [1,7,15000]\n",
    "pers3 = [0,0,0]\n",
    "object=[2,6]\n",
    "Lprogram(pers1,pers2,pers3,object)"
   ]
  },
  {
   "cell_type": "code",
   "execution_count": 9,
   "metadata": {},
   "outputs": [
    {
     "name": "stdout",
     "output_type": "stream",
     "text": [
      "Status: 1\n",
      "Nilai x = 14.0\n",
      "Nilai y = 8.0\n"
     ]
    }
   ],
   "source": [
    "#latihan soal cerita 2\n",
    "\"\"\"\n",
    "keliling = 2p + 2l = 44 (bagi 2)\n",
    "keliling = p + l = 22\n",
    "lebar = p-6\n",
    "ditanya berapa panjang dan lebar?\n",
    "\"\"\"\n",
    "from pulp.constants import LpMinimize\n",
    "import pulp\n",
    "#4x + 3y = 34\n",
    "#Membuat objek masalah\n",
    "model = pulp.LpProblem(name=\"Pemecahan_persamaan\", sense = LpMinimize)\n",
    "# membuat variabel x dan y\n",
    "x = pulp.LpVariable(name = \"x\")\n",
    "y = pulp.LpVariable(name = \"y\")\n",
    "#menambahkan batasan\n",
    "model += 2 * x + 2 * y == 44\n",
    "model += x - 6 == y\n",
    "\n",
    "#menyelesaikan masalah\n",
    "model.solve()\n",
    "\n",
    "#menampilkan hasil\n",
    "print(\"Status:\", model.status)\n",
    "print(\"Nilai x =\", x.varValue)\n",
    "print(\"Nilai y =\", y.varValue)"
   ]
  },
  {
   "cell_type": "code",
   "execution_count": 10,
   "metadata": {},
   "outputs": [],
   "source": [
    "from scipy.optimize import linprog\n",
    "def scipy(pers1,pers2,pers3,object):\n",
    "    c = [object[0],object[1]]\n",
    "    A = [[pers1[0],pers1[1]],\n",
    "        [pers2[0],pers2[1]],\n",
    "        [pers3[0],pers3[1]]]\n",
    "    b = [pers1[2],pers2[2],pers3[2]]\n",
    "    x1_bounds = (0,None)\n",
    "    x2_bounds = (0,None)\n",
    "    result = linprog(c,A_ub=A,b_ub=b,bounds=[x1_bounds,x2_bounds], method =\"highs\")\n",
    "\n",
    "    print(\"Optimal Solution:\")\n",
    "    print(\"x1=\",result.x[0])\n",
    "    print(\"x2=\",result.x[1])\n",
    "    print(\"Max_z=\",-result.fun)"
   ]
  },
  {
   "cell_type": "code",
   "execution_count": 11,
   "metadata": {},
   "outputs": [
    {
     "name": "stdout",
     "output_type": "stream",
     "text": [
      "Optimal Solution:\n",
      "x1= 5.0\n",
      "x2= 3.0\n",
      "Max_z= 46.0\n"
     ]
    }
   ],
   "source": [
    "#slide 32\n",
    "pers1=[1,0,16]\n",
    "pers2=[2,3,19]\n",
    "pers3=[1,1,8]\n",
    "object = [-5,-7]\n",
    "scipy(pers1,pers2,pers3,object)"
   ]
  },
  {
   "cell_type": "code",
   "execution_count": 12,
   "metadata": {},
   "outputs": [
    {
     "name": "stdout",
     "output_type": "stream",
     "text": [
      "Optimal Solution:\n",
      "x1= 7.0\n",
      "x2= 0.0\n",
      "Max_z= 7.0\n"
     ]
    }
   ],
   "source": [
    "#latihan 1 scipy\n",
    "# 4 x + 12 y = 28\n",
    "pers1=[4,12,28]\n",
    "pers2=[0,0,0]\n",
    "pers3=[0,0,0]\n",
    "object = [-1,-1]\n",
    "scipy(pers1,pers2,pers3,object)"
   ]
  },
  {
   "cell_type": "code",
   "execution_count": 14,
   "metadata": {},
   "outputs": [
    {
     "name": "stdout",
     "output_type": "stream",
     "text": [
      "Optimal Solution:\n",
      "x1= 0.0\n",
      "x2= 21.0\n",
      "Max_z= 21.0\n"
     ]
    }
   ],
   "source": [
    "#latihan 2 scipy\n",
    "# 2x + y = 21\n",
    "pers1=[2,1,21]\n",
    "pers2=[0,0,0]\n",
    "pers3=[0,0,0]\n",
    "object = [-1,-1]\n",
    "scipy(pers1,pers2,pers3,object)"
   ]
  },
  {
   "cell_type": "code",
   "execution_count": 19,
   "metadata": {},
   "outputs": [
    {
     "name": "stdout",
     "output_type": "stream",
     "text": [
      "Optimal Solution:\n",
      "x1= 9.0\n",
      "x2= 7.0\n",
      "Max_z= 16.0\n"
     ]
    }
   ],
   "source": [
    "#latihan 3 scipy\n",
    "\"\"\"\n",
    "lisa 3 buah / jam\n",
    "muri 4 buah / jam\n",
    "total jam kerja = 16\n",
    "total tas = 55\n",
    "lisa = x1  \n",
    "muri = x2 \n",
    "3 x1 + 4 x2= 55 ==> untuk tas\n",
    "1 x1 + 1 x2 = 16 ==> untuk jam\n",
    "\"\"\"\n",
    "pers1=[3,4,55]\n",
    "pers2=[1,1,16]\n",
    "pers3=[0,0,0]\n",
    "object = [-1,-1]\n",
    "scipy(pers1,pers2,pers3,object)"
   ]
  }
 ],
 "metadata": {
  "kernelspec": {
   "display_name": "base",
   "language": "python",
   "name": "python3"
  },
  "language_info": {
   "codemirror_mode": {
    "name": "ipython",
    "version": 3
   },
   "file_extension": ".py",
   "mimetype": "text/x-python",
   "name": "python",
   "nbconvert_exporter": "python",
   "pygments_lexer": "ipython3",
   "version": "3.11.5"
  }
 },
 "nbformat": 4,
 "nbformat_minor": 2
}
