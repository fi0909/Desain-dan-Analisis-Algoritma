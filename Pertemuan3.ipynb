{
  "nbformat": 4,
  "nbformat_minor": 0,
  "metadata": {
    "colab": {
      "provenance": [],
      "authorship_tag": "ABX9TyMnwJmBaEuiJT1i5WEgL+mB",
      "include_colab_link": true
    },
    "kernelspec": {
      "name": "python3",
      "display_name": "Python 3"
    },
    "language_info": {
      "name": "python"
    }
  },
  "cells": [
    {
      "cell_type": "markdown",
      "metadata": {
        "id": "view-in-github",
        "colab_type": "text"
      },
      "source": [
        "<a href=\"https://colab.research.google.com/github/fi0909/Desain-dan-Analisis-Algoritma/blob/main/Pertemuan3.ipynb\" target=\"_parent\"><img src=\"https://colab.research.google.com/assets/colab-badge.svg\" alt=\"Open In Colab\"/></a>"
      ]
    },
    {
      "cell_type": "code",
      "execution_count": null,
      "metadata": {
        "colab": {
          "base_uri": "https://localhost:8080/"
        },
        "id": "svR5_Gnr2WXG",
        "outputId": "d170088e-8c9b-4e88-f6be-6417b8d460cd"
      },
      "outputs": [
        {
          "output_type": "stream",
          "name": "stdout",
          "text": [
            "['John', 'Toronto', True]\n"
          ]
        }
      ],
      "source": [
        "listku =[\"John\", \"Toronto\", True]\n",
        "print (listku)"
      ]
    },
    {
      "cell_type": "code",
      "source": [
        "import datetime\n",
        "from datetime import datetime\n",
        "x = datetime.now()\n",
        "hari = str(x)\n",
        "Mahasiswa = [\"Muhammad Luthfi Taufikurrahman\", \"2022071053\" ,\"Informatika\", \"Desain dan Analisis Algoritma \", hari, \"Universitas Pembangunan jaya\"]\n",
        "print(Mahasiswa)"
      ],
      "metadata": {
        "id": "mVjAPYNX5cF4",
        "colab": {
          "base_uri": "https://localhost:8080/"
        },
        "outputId": "c19904c7-331a-40be-bc1a-7f1a10a83998"
      },
      "execution_count": 22,
      "outputs": [
        {
          "output_type": "stream",
          "name": "stdout",
          "text": [
            "['Muhammad Luthfi Taufikurrahman', '2022071053', 'Informatika', 'Desain dan Analisis Algoritma ', '2023-09-11 06:32:00.329539', 'Universitas Pembangunan jaya']\n"
          ]
        }
      ]
    },
    {
      "cell_type": "code",
      "source": [
        "Lwarna = ('red','green','blue','yellow')\n",
        "Lwarna[1]"
      ],
      "metadata": {
        "colab": {
          "base_uri": "https://localhost:8080/",
          "height": 35
        },
        "id": "chwqhL2x7yrg",
        "outputId": "bc60ed2b-65bf-4f07-8a70-90be672a9c16"
      },
      "execution_count": 28,
      "outputs": [
        {
          "output_type": "execute_result",
          "data": {
            "text/plain": [
              "'green'"
            ],
            "application/vnd.google.colaboratory.intrinsic+json": {
              "type": "string"
            }
          },
          "metadata": {},
          "execution_count": 28
        }
      ]
    },
    {
      "cell_type": "code",
      "source": [
        "Mahasiswa[1]"
      ],
      "metadata": {
        "colab": {
          "base_uri": "https://localhost:8080/",
          "height": 35
        },
        "id": "8D8iZfNz9ddx",
        "outputId": "cddd6a5e-4b4d-47f4-fa2b-455941ebe5f4"
      },
      "execution_count": 25,
      "outputs": [
        {
          "output_type": "execute_result",
          "data": {
            "text/plain": [
              "'2022071053'"
            ],
            "application/vnd.google.colaboratory.intrinsic+json": {
              "type": "string"
            }
          },
          "metadata": {},
          "execution_count": 25
        }
      ]
    },
    {
      "cell_type": "code",
      "source": [
        "Mahasiswa[5]"
      ],
      "metadata": {
        "colab": {
          "base_uri": "https://localhost:8080/",
          "height": 35
        },
        "id": "mGIQlLiv9q5v",
        "outputId": "3b743010-70b5-48fb-ea7a-88949e0d3404"
      },
      "execution_count": 26,
      "outputs": [
        {
          "output_type": "execute_result",
          "data": {
            "text/plain": [
              "'Universitas Pembangunan jaya'"
            ],
            "application/vnd.google.colaboratory.intrinsic+json": {
              "type": "string"
            }
          },
          "metadata": {},
          "execution_count": 26
        }
      ]
    },
    {
      "cell_type": "code",
      "source": [
        "Lwarna[0:6]"
      ],
      "metadata": {
        "colab": {
          "base_uri": "https://localhost:8080/"
        },
        "id": "ZMC6slGT-Ain",
        "outputId": "e1693f15-1191-4732-916e-d7cd9a24aa6b"
      },
      "execution_count": 40,
      "outputs": [
        {
          "output_type": "execute_result",
          "data": {
            "text/plain": [
              "('red', 'green')"
            ]
          },
          "metadata": {},
          "execution_count": 40
        }
      ]
    },
    {
      "cell_type": "code",
      "source": [
        "Mahasiswa = [\"Muhammad Luthfi Taufikurrahman\", \"2022071053\" ,\"Informatika\", \"Desain dan Analisis Algoritma \", hari, \"Universitas Pembangunan jaya\"]\n",
        "Mahasiswa[3:4]"
      ],
      "metadata": {
        "colab": {
          "base_uri": "https://localhost:8080/"
        },
        "id": "it5s2KCw-iLw",
        "outputId": "35bd9460-a325-40cc-e667-7fb5dcee68e0"
      },
      "execution_count": 57,
      "outputs": [
        {
          "output_type": "execute_result",
          "data": {
            "text/plain": [
              "['Desain dan Analisis Algoritma ']"
            ]
          },
          "metadata": {},
          "execution_count": 57
        }
      ]
    },
    {
      "cell_type": "code",
      "source": [
        "for item in Lwarna:\n",
        "  print(item + \"Square\")"
      ],
      "metadata": {
        "colab": {
          "base_uri": "https://localhost:8080/"
        },
        "id": "8C7t7QdJ_FGI",
        "outputId": "1ce6e75e-dfb4-4a67-d88c-ceb3aa44d77c"
      },
      "execution_count": 34,
      "outputs": [
        {
          "output_type": "stream",
          "name": "stdout",
          "text": [
            "redSquare\n",
            "greenSquare\n",
            "blueSquare\n",
            "yellowSquare\n"
          ]
        }
      ]
    },
    {
      "cell_type": "code",
      "source": [
        "for item in Mahasiswa:\n",
        "  print(\"UPJ \"+ item)"
      ],
      "metadata": {
        "colab": {
          "base_uri": "https://localhost:8080/"
        },
        "id": "pJkvhz8f_hYv",
        "outputId": "09d58d72-cb28-4bdf-95b5-c12f9f27e5dd"
      },
      "execution_count": 38,
      "outputs": [
        {
          "output_type": "stream",
          "name": "stdout",
          "text": [
            "UPJ Muhammad Luthfi Taufikurrahman\n",
            "UPJ 2022071053\n",
            "UPJ Informatika\n",
            "UPJ Desain dan Analisis Algoritma \n",
            "UPJ 2023-09-11 06:32:00.329539\n",
            "UPJ Universitas Pembangunan jaya\n"
          ]
        }
      ]
    },
    {
      "cell_type": "code",
      "source": [
        "Lwarna[1]\n",
        "Lwarna[2:]"
      ],
      "metadata": {
        "colab": {
          "base_uri": "https://localhost:8080/"
        },
        "id": "Yn9QeUIT_0K8",
        "outputId": "b4ab10be-f0f7-486b-a932-4ac0ba31d019"
      },
      "execution_count": 39,
      "outputs": [
        {
          "output_type": "execute_result",
          "data": {
            "text/plain": [
              "('blue', 'yellow')"
            ]
          },
          "metadata": {},
          "execution_count": 39
        }
      ]
    },
    {
      "cell_type": "code",
      "source": [
        "UPJ = (\"Universitas\", \"Pembangunan\", \"Jaya\")\n",
        "print(UPJ)"
      ],
      "metadata": {
        "colab": {
          "base_uri": "https://localhost:8080/"
        },
        "id": "j5Dw4iBuAJI4",
        "outputId": "ffa1c7d3-d7c0-4dae-9968-29a723bb0c11"
      },
      "execution_count": 42,
      "outputs": [
        {
          "output_type": "stream",
          "name": "stdout",
          "text": [
            "('Universitas', 'Pembangunan', 'Jaya')\n"
          ]
        }
      ]
    },
    {
      "cell_type": "code",
      "source": [
        "hariawal = (\"senin\",\"selasa\",\"rabu\")\n",
        "hariakhir = (\"kamis\",\"jumat\",\"sabtu\")\n",
        "hari = (hariawal,hariakhir)\n",
        "print(hari)"
      ],
      "metadata": {
        "colab": {
          "base_uri": "https://localhost:8080/"
        },
        "id": "u4_RouqTA3WY",
        "outputId": "96f71c2a-7d46-43b7-88be-f744e9d7adaa"
      },
      "execution_count": 43,
      "outputs": [
        {
          "output_type": "stream",
          "name": "stdout",
          "text": [
            "(('senin', 'selasa', 'rabu'), ('kamis', 'jumat', 'sabtu'))\n"
          ]
        }
      ]
    },
    {
      "cell_type": "code",
      "source": [
        "pertama = ('100')\n",
        "kedua = ('200','400','600')\n",
        "ketiga = ('300')\n",
        "keempat = ('400','800')\n",
        "nested_tuple = (pertama,kedua,ketiga,keempat)\n",
        "print(nested_tuple)"
      ],
      "metadata": {
        "colab": {
          "base_uri": "https://localhost:8080/"
        },
        "id": "nPY2CCJrBWRQ",
        "outputId": "231f3695-9eee-46bd-a841-6f923f3b2355"
      },
      "execution_count": 44,
      "outputs": [
        {
          "output_type": "stream",
          "name": "stdout",
          "text": [
            "('100', ('200', '400', '600'), '300', ('400', '800'))\n"
          ]
        }
      ]
    },
    {
      "cell_type": "code",
      "source": [
        "Lwarna ={\n",
        "    \"manual_color\":\"yellow\",\n",
        "    \"approved_color\":\"Green\",\n",
        "    \"refused_color\":\"red\"\n",
        "}\n",
        "print(Lwarna)"
      ],
      "metadata": {
        "colab": {
          "base_uri": "https://localhost:8080/"
        },
        "id": "xGqpltNwB8PH",
        "outputId": "f6c9068f-aae6-4b22-bfa6-d6ab0ecde0b2"
      },
      "execution_count": 45,
      "outputs": [
        {
          "output_type": "stream",
          "name": "stdout",
          "text": [
            "{'manual_color': 'yellow', 'approved_color': 'Green', 'refused_color': 'red'}\n"
          ]
        }
      ]
    },
    {
      "cell_type": "code",
      "source": [
        "Lwarna.get('approved_color')\n",
        "Lwarna['approved_color']"
      ],
      "metadata": {
        "colab": {
          "base_uri": "https://localhost:8080/",
          "height": 35
        },
        "id": "dcBEjaVmCh2p",
        "outputId": "ff7cf569-ea4d-4c64-9ba1-2fa4f3491eb4"
      },
      "execution_count": 47,
      "outputs": [
        {
          "output_type": "execute_result",
          "data": {
            "text/plain": [
              "'Green'"
            ],
            "application/vnd.google.colaboratory.intrinsic+json": {
              "type": "string"
            }
          },
          "metadata": {},
          "execution_count": 47
        }
      ]
    },
    {
      "cell_type": "code",
      "source": [
        "Lwarna['approved_color']=\"purple\"\n",
        "print(Lwarna)"
      ],
      "metadata": {
        "colab": {
          "base_uri": "https://localhost:8080/"
        },
        "id": "HeZIdx2oC6vu",
        "outputId": "f5e6d420-2e60-48cc-d129-8248adad0279"
      },
      "execution_count": 48,
      "outputs": [
        {
          "output_type": "stream",
          "name": "stdout",
          "text": [
            "{'manual_color': 'yellow', 'approved_color': 'purple', 'refused_color': 'red'}\n"
          ]
        }
      ]
    },
    {
      "cell_type": "code",
      "source": [
        "Mahasiswa ={\n",
        "    \"nama\":\"Muhammad Luthfi Taufikurrahman\",\n",
        "    \"NIM\":\"2022071053\",\n",
        "    \"Prodi\": \"Informatika\",\n",
        "    \"Universitas\":\"UPJ\"\n",
        "}\n",
        "print(Mahasiswa)"
      ],
      "metadata": {
        "colab": {
          "base_uri": "https://localhost:8080/"
        },
        "id": "kGP1fJtODKM_",
        "outputId": "c554c48c-4a2c-4a11-dd8c-3633f9fd478d"
      },
      "execution_count": 55,
      "outputs": [
        {
          "output_type": "stream",
          "name": "stdout",
          "text": [
            "{'nama': 'Muhammad Luthfi Taufikurrahman', 'NIM': '2022071053', 'Prodi': 'Informatika', 'Universitas': 'UPJ'}\n"
          ]
        }
      ]
    },
    {
      "cell_type": "code",
      "source": [
        "acak= (True ,{'name': 'depotkode','status':'alive'},[1,2,3])"
      ],
      "metadata": {
        "id": "uZYyeY56ECQg"
      },
      "execution_count": null,
      "outputs": []
    },
    {
      "cell_type": "code",
      "source": [
        "green = {'grass','leaves'}\n",
        "print(green)"
      ],
      "metadata": {
        "colab": {
          "base_uri": "https://localhost:8080/"
        },
        "id": "_9XIyptsGRPv",
        "outputId": "6c75b45a-2f94-49bd-cf54-bd04938cab32"
      },
      "execution_count": 58,
      "outputs": [
        {
          "output_type": "stream",
          "name": "stdout",
          "text": [
            "{'leaves', 'grass'}\n"
          ]
        }
      ]
    },
    {
      "cell_type": "code",
      "source": [
        "green = {'grass', 'leaves','leaves'}\n",
        "print(green)"
      ],
      "metadata": {
        "colab": {
          "base_uri": "https://localhost:8080/"
        },
        "id": "U1pOmsKqH5dg",
        "outputId": "547ff149-293f-4853-d07c-6cb20c022379"
      },
      "execution_count": 59,
      "outputs": [
        {
          "output_type": "stream",
          "name": "stdout",
          "text": [
            "('grass', 'leaves', 'leaves')\n"
          ]
        }
      ]
    },
    {
      "cell_type": "code",
      "source": [
        "set1={4,5,6,2}\n",
        "print(set1)"
      ],
      "metadata": {
        "colab": {
          "base_uri": "https://localhost:8080/"
        },
        "id": "PMNcJrcXINBW",
        "outputId": "faeb0643-f747-4edd-de03-ed98f386b53c"
      },
      "execution_count": 60,
      "outputs": [
        {
          "output_type": "stream",
          "name": "stdout",
          "text": [
            "{2, 4, 5, 6}\n"
          ]
        }
      ]
    },
    {
      "cell_type": "code",
      "source": [
        "set2 = set()\n",
        "set3 = set([2,1,4,3])\n",
        "print(type(set2))\n",
        "print(set3)"
      ],
      "metadata": {
        "colab": {
          "base_uri": "https://localhost:8080/"
        },
        "id": "xncVFUt2IxZA",
        "outputId": "c2c7f6fa-6367-4aa2-c1b0-3f24a29bbf68"
      },
      "execution_count": 61,
      "outputs": [
        {
          "output_type": "stream",
          "name": "stdout",
          "text": [
            "<class 'set'>\n",
            "{1, 2, 3, 4}\n"
          ]
        }
      ]
    },
    {
      "cell_type": "code",
      "source": [
        "set4 = {2,3,4,5,6}\n",
        "set4.add(1)\n",
        "print(set4)"
      ],
      "metadata": {
        "colab": {
          "base_uri": "https://localhost:8080/"
        },
        "id": "Ovs9fNTbJLS2",
        "outputId": "dca89080-85c9-4be3-e3ea-0efc4539b5ac"
      },
      "execution_count": 62,
      "outputs": [
        {
          "output_type": "stream",
          "name": "stdout",
          "text": [
            "{1, 2, 3, 4, 5, 6}\n"
          ]
        }
      ]
    },
    {
      "cell_type": "code",
      "source": [
        "set4 = {1,2,3,4,5,6,7,8}\n",
        "set4.discard(4)\n",
        "print(set4)"
      ],
      "metadata": {
        "colab": {
          "base_uri": "https://localhost:8080/"
        },
        "id": "hqNcQrPQJiQG",
        "outputId": "a4b1a1e1-4601-4427-fc26-7e9e6d86d596"
      },
      "execution_count": 63,
      "outputs": [
        {
          "output_type": "stream",
          "name": "stdout",
          "text": [
            "{1, 2, 3, 5, 6, 7, 8}\n"
          ]
        }
      ]
    },
    {
      "cell_type": "code",
      "source": [
        "set4.add(10)\n",
        "print(set4)"
      ],
      "metadata": {
        "colab": {
          "base_uri": "https://localhost:8080/"
        },
        "id": "IC5WludcJvR3",
        "outputId": "1d00fa15-063f-4cf5-e5db-459594ffe6b0"
      },
      "execution_count": 64,
      "outputs": [
        {
          "output_type": "stream",
          "name": "stdout",
          "text": [
            "{1, 2, 3, 5, 6, 7, 8, 10}\n"
          ]
        }
      ]
    },
    {
      "cell_type": "code",
      "source": [
        "seta={1,2,3,4}\n",
        "setb={3,4,5,6}\n",
        "print(seta|setb)\n",
        "print(seta.union(setb))"
      ],
      "metadata": {
        "colab": {
          "base_uri": "https://localhost:8080/"
        },
        "id": "8KY_8sFEJ4HH",
        "outputId": "86133531-408f-453e-90b8-f09f629a1c30"
      },
      "execution_count": 65,
      "outputs": [
        {
          "output_type": "stream",
          "name": "stdout",
          "text": [
            "{1, 2, 3, 4, 5, 6}\n",
            "{1, 2, 3, 4, 5, 6}\n"
          ]
        }
      ]
    },
    {
      "cell_type": "code",
      "source": [
        "print(seta&setb)\n",
        "print(seta.intersection(setb))"
      ],
      "metadata": {
        "colab": {
          "base_uri": "https://localhost:8080/"
        },
        "id": "Xq-Em19sK12O",
        "outputId": "c4df3e04-b900-4fb3-cc1d-f521473effb8"
      },
      "execution_count": 66,
      "outputs": [
        {
          "output_type": "stream",
          "name": "stdout",
          "text": [
            "{3, 4}\n",
            "{3, 4}\n"
          ]
        }
      ]
    },
    {
      "cell_type": "code",
      "source": [
        "print(seta-setb)\n",
        "print(seta.difference(setb))"
      ],
      "metadata": {
        "colab": {
          "base_uri": "https://localhost:8080/"
        },
        "id": "pBSsmwJKK9z1",
        "outputId": "c94b8ef0-4d09-4edb-a0f7-ace39f4c90d2"
      },
      "execution_count": 67,
      "outputs": [
        {
          "output_type": "stream",
          "name": "stdout",
          "text": [
            "{1, 2}\n",
            "{1, 2}\n"
          ]
        }
      ]
    },
    {
      "cell_type": "code",
      "source": [
        "print(setb-seta)\n",
        "print(setb.difference(seta))"
      ],
      "metadata": {
        "colab": {
          "base_uri": "https://localhost:8080/"
        },
        "id": "EuuuxnIfLZv_",
        "outputId": "54473fbe-1ca1-40f5-b284-cd487c045f9f"
      },
      "execution_count": 68,
      "outputs": [
        {
          "output_type": "stream",
          "name": "stdout",
          "text": [
            "{5, 6}\n",
            "{5, 6}\n"
          ]
        }
      ]
    },
    {
      "cell_type": "code",
      "source": [
        "print(seta^setb)\n",
        "print(seta.symmetric_difference(setb))"
      ],
      "metadata": {
        "colab": {
          "base_uri": "https://localhost:8080/"
        },
        "id": "KNJhtPOrLu6v",
        "outputId": "0da26e2d-129f-45b3-c0c0-6c3c68717c05"
      },
      "execution_count": 69,
      "outputs": [
        {
          "output_type": "stream",
          "name": "stdout",
          "text": [
            "{1, 2, 5, 6}\n",
            "{1, 2, 5, 6}\n"
          ]
        }
      ]
    },
    {
      "cell_type": "code",
      "source": [
        "yellow = {'dandelions','fire hydrant','leaves'}\n",
        "red = {'leaves', 'fire hydrant','rose','blood'}\n",
        "print(yellow|red)\n",
        "print(yellow&red)"
      ],
      "metadata": {
        "colab": {
          "base_uri": "https://localhost:8080/"
        },
        "id": "dPcLyUK_MVgO",
        "outputId": "38574bd6-3c15-4ca8-a75d-7802e2351713"
      },
      "execution_count": 71,
      "outputs": [
        {
          "output_type": "stream",
          "name": "stdout",
          "text": [
            "{'rose', 'blood', 'fire hydrant', 'leaves', 'dandelions'}\n",
            "{'leaves', 'fire hydrant'}\n"
          ]
        }
      ]
    },
    {
      "cell_type": "code",
      "source": [
        "import pandas as pd\n",
        "df = pd.DataFrame([\n",
        "    ['1','fares',32,True],\n",
        "    ['2','elena',23,False],\n",
        "    ['3','steven', 40 , True]\n",
        "])\n",
        "df.columns = ['id','name','age','decision']\n",
        "print(df)"
      ],
      "metadata": {
        "colab": {
          "base_uri": "https://localhost:8080/"
        },
        "id": "51AguPJCNtSu",
        "outputId": "0ceb5e5e-1649-42a7-accb-07dd98ede68a"
      },
      "execution_count": 74,
      "outputs": [
        {
          "output_type": "stream",
          "name": "stdout",
          "text": [
            "  id    name  age  decision\n",
            "0  1   fares   32      True\n",
            "1  2   elena   23     False\n",
            "2  3  steven   40      True\n"
          ]
        }
      ]
    },
    {
      "cell_type": "code",
      "source": [
        "import pandas as pd\n",
        "data= {\n",
        "    \"name\" : [\"fares\",\"elena\",\"steven\"],\n",
        "    \"age\" : [22, 23, 40]\n",
        "}\n",
        "df=pd.DataFrame(data)\n",
        "df.iloc[1:3]\n",
        "print(df)\n",
        "print(df.iloc[0:3])"
      ],
      "metadata": {
        "colab": {
          "base_uri": "https://localhost:8080/"
        },
        "id": "ulzru0wEQLCW",
        "outputId": "973d6731-d1c8-4954-b04b-2605a60793b1"
      },
      "execution_count": 103,
      "outputs": [
        {
          "output_type": "stream",
          "name": "stdout",
          "text": [
            "     name  age\n",
            "0   fares   22\n",
            "1   elena   23\n",
            "2  steven   40\n",
            "     name  age\n",
            "0   fares   22\n",
            "1   elena   23\n",
            "2  steven   40\n"
          ]
        }
      ]
    },
    {
      "cell_type": "code",
      "source": [
        "import pandas as pd\n",
        "\n",
        "data={\n",
        "    \"no\":[1,2,3],\n",
        "    \"prodi\": [\"informatika\",\"Sistem informasi\",\"Teknik Sipil\"],\n",
        "    \"Mahasiswa\": [50 ,55 ,40],\n",
        "    \"lakilaki\": [30,30,30],\n",
        "    \"Perembuan\" : [20,25,10]\n",
        "}\n",
        "df = pd.DataFrame(data, index = ['-','-','-'])\n",
        "print(df)"
      ],
      "metadata": {
        "colab": {
          "base_uri": "https://localhost:8080/"
        },
        "id": "t6gMKDyMVLmV",
        "outputId": "3b938629-21ac-4011-82d4-37f8252e4a51"
      },
      "execution_count": 105,
      "outputs": [
        {
          "output_type": "stream",
          "name": "stdout",
          "text": [
            "   no             prodi  Mahasiswa  lakilaki  Perembuan\n",
            "-   1       informatika         50        30         20\n",
            "-   2  Sistem informasi         55        30         25\n",
            "-   3      Teknik Sipil         40        30         10\n"
          ]
        }
      ]
    },
    {
      "cell_type": "code",
      "source": [
        "import numpy as np\n",
        "matriksa=np.array([[100,200,300],[700,600,500],[900,1000,800]])\n",
        "transposea= np.transpose(matriksa)\n",
        "print(\"matriks a : \")\n",
        "print(matriksa)\n",
        "print(\"tranpose : \")\n",
        "print(transposea)\n"
      ],
      "metadata": {
        "colab": {
          "base_uri": "https://localhost:8080/"
        },
        "id": "SC81NgjLW4b1",
        "outputId": "842cc278-ca63-438a-d327-91b719d2b027"
      },
      "execution_count": 108,
      "outputs": [
        {
          "output_type": "stream",
          "name": "stdout",
          "text": [
            "matriks a : \n",
            "[[ 100  200  300]\n",
            " [ 700  600  500]\n",
            " [ 900 1000  800]]\n",
            "tranpose : \n",
            "[[ 100  700  900]\n",
            " [ 200  600 1000]\n",
            " [ 300  500  800]]\n"
          ]
        }
      ]
    },
    {
      "cell_type": "code",
      "source": [
        "Vectorku=[22,33,44,55]\n",
        "print(Vectorku)\n",
        "print(type(Vectorku))"
      ],
      "metadata": {
        "id": "V8WBuP-qZWxN"
      },
      "execution_count": null,
      "outputs": []
    },
    {
      "cell_type": "code",
      "source": [
        "class Stack:\n",
        "  def __init__(self):\n",
        "    self.items = []\n",
        "  def isEmpty(self):\n",
        "    return self.items == []\n",
        "  def push(self, item):\n",
        "    self.items.append(item)\n",
        "  def pop (self):\n",
        "    return self.items.pop()\n",
        "  def peek(self):\n",
        "    return self.items.pop()\n",
        "  def peek(self):\n",
        "    return self.items[len(self.items)-1]\n",
        "  def size(self):\n",
        "    return len(self.items)\n",
        "\n",
        "stack = Stack()\n",
        "stack.push('red')\n",
        "stack.push('green')\n",
        "stack.push(\"blue\")\n",
        "stack.push(\"yellow\")\n",
        "\n",
        "stack.pop()\n",
        "stack.isEmpty()"
      ],
      "metadata": {
        "colab": {
          "base_uri": "https://localhost:8080/"
        },
        "id": "vROeEx61a0VV",
        "outputId": "b69c8337-b44a-4630-9ca7-0ff46f4bde75"
      },
      "execution_count": 114,
      "outputs": [
        {
          "output_type": "execute_result",
          "data": {
            "text/plain": [
              "False"
            ]
          },
          "metadata": {},
          "execution_count": 114
        }
      ]
    },
    {
      "cell_type": "markdown",
      "source": [
        "perbedan tuple dengan sets\n",
        "tuple = elemen didalamnya bisa di copy kembali()\n",
        "sets = elemennya tidak bisa di copy {}\n",
        "Union = |"
      ],
      "metadata": {
        "id": "Gb3XP4biHsl3"
      }
    }
  ]
}