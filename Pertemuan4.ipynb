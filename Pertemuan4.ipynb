{
  "cells": [
    {
      "cell_type": "markdown",
      "metadata": {
        "id": "view-in-github",
        "colab_type": "text"
      },
      "source": [
        "<a href=\"https://colab.research.google.com/github/fi0909/Desain-dan-Analisis-Algoritma/blob/main/Pertemuan4.ipynb\" target=\"_parent\"><img src=\"https://colab.research.google.com/assets/colab-badge.svg\" alt=\"Open In Colab\"/></a>"
      ]
    },
    {
      "cell_type": "code",
      "execution_count": 1,
      "metadata": {
        "colab": {
          "base_uri": "https://localhost:8080/"
        },
        "id": "Iik83sn7dRgu",
        "outputId": "b8584992-f175-40b5-8c5e-4e1a405b605b"
      },
      "outputs": [
        {
          "output_type": "stream",
          "name": "stdout",
          "text": [
            "2 1\n"
          ]
        }
      ],
      "source": [
        "#                                   CATATAN\n",
        "#   FUGNSI SWAP\n",
        "var1 = 1\n",
        "var2 = 2\n",
        "var1,var2 = var2,var1\n",
        "print(var1,var2)"
      ]
    },
    {
      "cell_type": "code",
      "execution_count": 2,
      "metadata": {
        "colab": {
          "base_uri": "https://localhost:8080/"
        },
        "id": "9hIOPsgLdRgw",
        "outputId": "be497b85-a891-4c70-bb8a-1bddf07308b6"
      },
      "outputs": [
        {
          "output_type": "stream",
          "name": "stdout",
          "text": [
            "0 [10, 5, 3, 2, 6, 7, 1]\n",
            "1 [5, 10, 3, 2, 6, 7, 1]\n",
            "2 [5, 3, 10, 2, 6, 7, 1]\n",
            "3 [5, 3, 2, 10, 6, 7, 1]\n",
            "4 [5, 3, 2, 6, 10, 7, 1]\n",
            "5 [5, 3, 2, 6, 7, 10, 1]\n",
            "6 [5, 3, 2, 6, 7, 1, 10]\n"
          ]
        }
      ],
      "source": [
        "#   Bubble sort\n",
        "list = [10,5,3,2,6,7,1]\n",
        "panjangindex = len(list)-1\n",
        "print(0,list)\n",
        "for i in range (panjangindex):\n",
        "    if list[i]>list[i+1]:\n",
        "        list[i],list[i+1]=list[i+1],list[i]\n",
        "    print (i+1,list)"
      ]
    },
    {
      "cell_type": "code",
      "execution_count": 3,
      "metadata": {
        "id": "0DdVR2emdRgx"
      },
      "outputs": [],
      "source": [
        "#   Bubble sort\n",
        "def bubblesort(list):\n",
        "    panjangindex = len(list)-1\n",
        "    for passno in range(panjangindex,0,-1):\n",
        "        for i in range(passno):\n",
        "            if list[i]>list[i+1]:\n",
        "                list[i],list[i+1] = list[i+1],list[i]\n",
        "    return list"
      ]
    },
    {
      "cell_type": "code",
      "execution_count": 4,
      "metadata": {
        "colab": {
          "base_uri": "https://localhost:8080/"
        },
        "id": "AxPEopeUdRgx",
        "outputId": "be6c2150-eaf7-4f03-8ed6-10d500d93f48"
      },
      "outputs": [
        {
          "output_type": "execute_result",
          "data": {
            "text/plain": [
              "[1, 2, 3, 5, 6, 7, 10]"
            ]
          },
          "metadata": {},
          "execution_count": 4
        }
      ],
      "source": [
        "list = [10,5,3,2,6,7,1]\n",
        "bubblesort(list)"
      ]
    },
    {
      "cell_type": "code",
      "execution_count": 5,
      "metadata": {
        "id": "SjI3xBF0dRgx"
      },
      "outputs": [],
      "source": [
        "# 2 insertion sort\n",
        "def insertionsort(list):\n",
        "    for i in range (1,len(list)):\n",
        "        j = i - 1\n",
        "        temp = list[i]\n",
        "        while (list[j]>temp)and(j>=0):\n",
        "            list[j+1] = list [j]\n",
        "            j = j - 1\n",
        "        list [j+1] = temp\n",
        "    return list"
      ]
    },
    {
      "cell_type": "code",
      "execution_count": 6,
      "metadata": {
        "id": "m0iDnskMdRgy"
      },
      "outputs": [],
      "source": [
        "list = [35,31,32,34,33,37,36]"
      ]
    },
    {
      "cell_type": "code",
      "execution_count": 7,
      "metadata": {
        "colab": {
          "base_uri": "https://localhost:8080/"
        },
        "id": "en22I2HBdRgy",
        "outputId": "6c503cc9-880e-4b0e-e860-f99761bf24ac"
      },
      "outputs": [
        {
          "output_type": "execute_result",
          "data": {
            "text/plain": [
              "[35, 31, 32, 34, 33, 37, 36]"
            ]
          },
          "metadata": {},
          "execution_count": 7
        }
      ],
      "source": [
        "list"
      ]
    },
    {
      "cell_type": "code",
      "execution_count": 8,
      "metadata": {
        "colab": {
          "base_uri": "https://localhost:8080/"
        },
        "id": "HD0TXBYNdRgy",
        "outputId": "67003ba5-01a6-4d79-ff08-c3129cf3f83e"
      },
      "outputs": [
        {
          "output_type": "execute_result",
          "data": {
            "text/plain": [
              "[31, 32, 33, 34, 35, 36, 37]"
            ]
          },
          "metadata": {},
          "execution_count": 8
        }
      ],
      "source": [
        "insertionsort(list)"
      ]
    },
    {
      "cell_type": "code",
      "execution_count": 9,
      "metadata": {
        "colab": {
          "base_uri": "https://localhost:8080/"
        },
        "id": "qlERc4owdRgy",
        "outputId": "d735dfb9-b074-4f9c-eeef-4bbf21670304"
      },
      "outputs": [
        {
          "output_type": "stream",
          "name": "stdout",
          "text": [
            "[15, 19, 25, 34, 44, 70]\n"
          ]
        }
      ],
      "source": [
        "# selection sort\n",
        "def selectionsort(list):\n",
        "    for isi_slot in range (len(list)-1, 0, -1): # ascending\n",
        "        max_index = 0\n",
        "        for lokasi in range (1,isi_slot + 1):\n",
        "            if list[lokasi] > list[max_index]:\n",
        "                max_index = lokasi\n",
        "        list[isi_slot], list[max_index] = list[max_index],list[isi_slot]\n",
        "list = [70,15,25,19,34,44]\n",
        "selectionsort(list)\n",
        "print(list)"
      ]
    },
    {
      "cell_type": "code",
      "execution_count": 10,
      "metadata": {
        "colab": {
          "base_uri": "https://localhost:8080/"
        },
        "id": "yY8kYRN5dRgz",
        "outputId": "253ffca8-48ba-4f87-b8dc-9f234dd6c319"
      },
      "outputs": [
        {
          "output_type": "stream",
          "name": "stdout",
          "text": [
            "True\n",
            "False\n"
          ]
        }
      ],
      "source": [
        "# linier search\n",
        "def linearSearch(list,item):\n",
        "    index = 0\n",
        "    found = False\n",
        "    while index < len(list) and found is False:\n",
        "        if list[index] == item:\n",
        "            found = True\n",
        "        else:\n",
        "            index = index + 1\n",
        "    return found\n",
        "list = [12,33,11,99,22,55,90]\n",
        "print(linearSearch(list,12))\n",
        "print(linearSearch(list,91))"
      ]
    },
    {
      "cell_type": "code",
      "execution_count": 11,
      "metadata": {
        "colab": {
          "base_uri": "https://localhost:8080/"
        },
        "id": "2jcM3-sedRgz",
        "outputId": "bf2114ef-7ef5-4595-f96c-003414ea4ab2"
      },
      "outputs": [
        {
          "output_type": "stream",
          "name": "stdout",
          "text": [
            "True\n",
            "False\n"
          ]
        }
      ],
      "source": [
        "# Binary search\n",
        "def binarysearch (list,item):\n",
        "    first = 0\n",
        "    last = len(list)-1\n",
        "    found = False\n",
        "    while first <= last and not found:\n",
        "        midpoint = (first + last)//2\n",
        "        if list[midpoint] == item:\n",
        "            found = True\n",
        "        else:\n",
        "            if item < list[midpoint]:\n",
        "                last = midpoint-1\n",
        "            else:\n",
        "                first = midpoint+1\n",
        "    return found\n",
        "list = [12,33,11,99,22,55,90]\n",
        "sorted_list = bubblesort(list)\n",
        "print(binarysearch(list,12))\n",
        "print(binarysearch(list,91))"
      ]
    },
    {
      "cell_type": "code",
      "execution_count": 12,
      "metadata": {
        "colab": {
          "base_uri": "https://localhost:8080/"
        },
        "id": "BEsZoq7adRg0",
        "outputId": "c85c0dde-9f78-40ab-ce63-7cadd1f86c8f"
      },
      "outputs": [
        {
          "output_type": "stream",
          "name": "stdout",
          "text": [
            "True\n",
            "False\n"
          ]
        }
      ],
      "source": [
        "def intpolsearch(list,x):\n",
        "    idx0 = 0\n",
        "    idxn = (len(list)-1)\n",
        "    found = False\n",
        "    while idxn != idx0 and x >= list[idx0] and x <= list[idxn]:\n",
        "        mid = idx0 + int(float(idxn-idx0)/(list[idxn]-list[idx0])*(x-list[idx0]))\n",
        "        if list [mid] == x :\n",
        "            found = True\n",
        "            return found\n",
        "        if list[mid] < x:\n",
        "            idx0 = mid + 1\n",
        "    return found\n",
        "list = [12,33,11,99,22,55,90]\n",
        "sorted_list = bubblesort(list)\n",
        "print(intpolsearch(list,12))\n",
        "print(intpolsearch(list,91))"
      ]
    },
    {
      "cell_type": "code",
      "execution_count": 13,
      "metadata": {
        "colab": {
          "base_uri": "https://localhost:8080/"
        },
        "id": "dtJ4CQESdRg0",
        "outputId": "0ebeb48a-bb00-4c13-ec50-a608d862c852"
      },
      "outputs": [
        {
          "output_type": "stream",
          "name": "stdout",
          "text": [
            "3 1 2\n"
          ]
        }
      ],
      "source": [
        "#                                  LATIHAN\n",
        "#   Latihan fungsi swap\n",
        "var1 = 1\n",
        "var2 = 2\n",
        "var3 = 3\n",
        "var1,var2,var3= var3,var1,var2\n",
        "print(var1,var2,var3)"
      ]
    },
    {
      "cell_type": "code",
      "execution_count": 14,
      "metadata": {
        "colab": {
          "base_uri": "https://localhost:8080/"
        },
        "id": "8jWCMmb8dRg0",
        "outputId": "31f05aae-7ced-445b-9b28-665a19ee5806"
      },
      "outputs": [
        {
          "output_type": "stream",
          "name": "stdout",
          "text": [
            "0 [100, 20, 60, 90, 40, 30, 10]\n",
            "1 [20, 60, 90, 40, 30, 10, 100]\n",
            "2 [20, 60, 40, 30, 10, 90, 100]\n",
            "3 [20, 40, 30, 10, 60, 90, 100]\n",
            "4 [20, 30, 10, 40, 60, 90, 100]\n",
            "5 [20, 10, 30, 40, 60, 90, 100]\n",
            "6 [10, 20, 30, 40, 60, 90, 100]\n"
          ]
        }
      ],
      "source": [
        "#latihan bubble sort\n",
        "list = [100,20,60,90,40,30,10]\n",
        "panjangindex = len(list)-1\n",
        "print(0,list)\n",
        "for i in range (panjangindex,0,-1):\n",
        "    for j in range (i):\n",
        "        if list[j]>list[j+1]:\n",
        "            list[j],list[j+1] = list[j+1],list[j]\n",
        "    tampilan = panjangindex - i\n",
        "    print(tampilan+1,list)"
      ]
    },
    {
      "cell_type": "code",
      "execution_count": 15,
      "metadata": {
        "colab": {
          "base_uri": "https://localhost:8080/"
        },
        "id": "_NJ-e9uydRg0",
        "outputId": "42d144c5-3c29-4b88-c9a1-18e42e83274f"
      },
      "outputs": [
        {
          "output_type": "stream",
          "name": "stdout",
          "text": [
            "[11, 12, 16, 25, 57, 75, 89]\n"
          ]
        }
      ],
      "source": [
        "#Latihan insertion sort\n",
        "var = [89,12,57,16,25,11,75]\n",
        "for i in range (1,len(var)):\n",
        "    j = i - 1\n",
        "    temp = var[i]\n",
        "    while (var[j]>temp) and (j>=0):\n",
        "        var[j+1] = var[j]\n",
        "        j = j - 1\n",
        "    var [j+1] = temp\n",
        "print(var)\n"
      ]
    },
    {
      "cell_type": "code",
      "execution_count": 16,
      "metadata": {
        "colab": {
          "base_uri": "https://localhost:8080/"
        },
        "id": "eBsviomvdRg1",
        "outputId": "6ba842fb-6ccd-45ed-cfe8-090325b5c08e"
      },
      "outputs": [
        {
          "output_type": "stream",
          "name": "stdout",
          "text": [
            "[12, 16, 25, 57, 89]\n",
            "[89, 57, 25, 16, 12]\n"
          ]
        }
      ],
      "source": [
        "#latihan selection sort\n",
        "list = [89,12,57,16,25]\n",
        "for isi_slot in range (len(list)-1, 0, -1): # ascending\n",
        "    max_index = 0\n",
        "    for lokasi in range (1,isi_slot + 1):\n",
        "        if list[lokasi] > list[max_index]:\n",
        "            max_index = lokasi\n",
        "        list[isi_slot], list[max_index] = list[max_index],list[isi_slot]\n",
        "print (list)\n",
        "for isi_slot in range (len(list)-1, 0, -1): # descending\n",
        "    max_index = 0\n",
        "    for lokasi in range (1,isi_slot + 1):\n",
        "        if list[lokasi] < list[max_index]:\n",
        "            max_index = lokasi\n",
        "        list[isi_slot], list[max_index] = list[max_index],list[isi_slot]\n",
        "print (list)"
      ]
    },
    {
      "cell_type": "code",
      "execution_count": 17,
      "metadata": {
        "colab": {
          "base_uri": "https://localhost:8080/"
        },
        "id": "9v3lQGU4dRg1",
        "outputId": "e645aacc-3770-4e69-d965-71475072efa1"
      },
      "outputs": [
        {
          "output_type": "stream",
          "name": "stdout",
          "text": [
            "['y', 'u', 'i', 'w', 'i', 'a', 'q', 'u', 'j', 'p']\n",
            "True\n"
          ]
        }
      ],
      "source": [
        "#latihan linear search\n",
        "def pencarian_linear(huruf,item):\n",
        "    index = 0\n",
        "    found = False\n",
        "    while index < len(huruf) and found is False:\n",
        "        if huruf[index] == item:\n",
        "            found = True\n",
        "        else:\n",
        "            index = index + 1\n",
        "    return found\n",
        "string = \"yuiwiaqujp\"\n",
        "huruf = []\n",
        "huruf.extend(string)\n",
        "print(huruf)\n",
        "print(pencarian_linear(huruf,'a'))\n"
      ]
    },
    {
      "cell_type": "code",
      "execution_count": 18,
      "metadata": {
        "id": "76rTHPuWdRg1"
      },
      "outputs": [],
      "source": [
        "def Bubblesort(x):\n",
        "    panjangindex = len(x)-1\n",
        "    for passno in range(panjangindex,0,-1):\n",
        "        for i in range(passno):\n",
        "            if x[i]>x[i+1]:\n",
        "                x[i],x[i+1] = x[i+1],x[i]\n",
        "    return x"
      ]
    },
    {
      "cell_type": "code",
      "execution_count": 19,
      "metadata": {
        "id": "PMWjgb1cdRg1"
      },
      "outputs": [],
      "source": [
        "#latihan Pencarian biner\n",
        "def pencarian_biner(x,item):\n",
        "    first = 0\n",
        "    last = len(x)-1\n",
        "    found = False\n",
        "    while first <= last and not found :\n",
        "        midpoint = (first + last)//2\n",
        "        if x[midpoint] == item:\n",
        "            found = True\n",
        "        else:\n",
        "            if item < x [midpoint]:\n",
        "                last = midpoint-1\n",
        "            else:\n",
        "                first = midpoint+1\n",
        "    return found"
      ]
    },
    {
      "cell_type": "code",
      "execution_count": 20,
      "metadata": {
        "colab": {
          "base_uri": "https://localhost:8080/"
        },
        "id": "5muOYAEXdRg1",
        "outputId": "595e4f41-d9dd-4903-c4d1-d8801194c124"
      },
      "outputs": [
        {
          "output_type": "stream",
          "name": "stdout",
          "text": [
            "[97, 105, 106, 112, 113, 117, 117, 119, 121]\n",
            "True\n"
          ]
        }
      ],
      "source": [
        "huruf = ['y','u','i','w','a','q','u','j','p']\n",
        "x = [] #converting to unicode\n",
        "for i in huruf:\n",
        "    x.append(ord(i))\n",
        "cari = 'a'\n",
        "sorted_list = Bubblesort(x)\n",
        "print(x)\n",
        "print(pencarian_biner(x,ord(cari)))"
      ]
    },
    {
      "cell_type": "code",
      "execution_count": 21,
      "metadata": {
        "colab": {
          "base_uri": "https://localhost:8080/"
        },
        "id": "s4Rkkrg4dRg2",
        "outputId": "d8ae207f-da73-4540-9b07-f7db5ad41720"
      },
      "outputs": [
        {
          "output_type": "stream",
          "name": "stdout",
          "text": [
            "[97, 105, 106, 112, 113, 117, 117, 119, 121]\n",
            "True\n"
          ]
        }
      ],
      "source": [
        "#latihan interpolation Search\n",
        "def pencarian_intpol(huruf,item):\n",
        "    i = 0\n",
        "    j = (len(huruf)-1)\n",
        "    found = False\n",
        "    while  i <= j and item >= huruf[i] and item <= huruf[j]:\n",
        "        mid = i + int(float(j-i)/(huruf[j]-huruf[i])*(item - huruf[i]))\n",
        "        if huruf[mid] == item:\n",
        "            found = True\n",
        "            return found\n",
        "        if huruf[mid]<item:\n",
        "            i = mid + 1\n",
        "    return found\n",
        "huruf = ['y','u','i','w','a','q','u','j','p']\n",
        "x = [] #converting to unicode\n",
        "for i in huruf:\n",
        "    x.append(ord(i))\n",
        "sorted_list = Bubblesort(x)\n",
        "cari = 'a'\n",
        "print(x)\n",
        "print(pencarian_intpol(x,int(ord(cari))))"
      ]
    }
  ],
  "metadata": {
    "kernelspec": {
      "display_name": "Python 3",
      "language": "python",
      "name": "python3"
    },
    "language_info": {
      "codemirror_mode": {
        "name": "ipython",
        "version": 3
      },
      "file_extension": ".py",
      "mimetype": "text/x-python",
      "name": "python",
      "nbconvert_exporter": "python",
      "pygments_lexer": "ipython3",
      "version": "3.11.5"
    },
    "orig_nbformat": 4,
    "colab": {
      "provenance": [],
      "include_colab_link": true
    }
  },
  "nbformat": 4,
  "nbformat_minor": 0
}