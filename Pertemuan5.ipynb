{
  "nbformat": 4,
  "nbformat_minor": 0,
  "metadata": {
    "colab": {
      "provenance": [],
      "authorship_tag": "ABX9TyMFlzlJf13b7J33fpIT2wRu",
      "include_colab_link": true
    },
    "kernelspec": {
      "name": "python3",
      "display_name": "Python 3"
    },
    "language_info": {
      "name": "python"
    }
  },
  "cells": [
    {
      "cell_type": "markdown",
      "metadata": {
        "id": "view-in-github",
        "colab_type": "text"
      },
      "source": [
        "<a href=\"https://colab.research.google.com/github/fi0909/Desain-dan-Analisis-Algoritma/blob/main/Pertemuan5.ipynb\" target=\"_parent\"><img src=\"https://colab.research.google.com/assets/colab-badge.svg\" alt=\"Open In Colab\"/></a>"
      ]
    },
    {
      "cell_type": "code",
      "execution_count": 31,
      "metadata": {
        "id": "7tYyI23H8ETb"
      },
      "outputs": [],
      "source": [
        "#menghitung inversi\n",
        "\n",
        "def countInversi(arr):\n",
        "  result=0\n",
        "  for i in range(len(arr)):\n",
        "    for j in range (i+1,len(arr)):\n",
        "      if arr[i]>arr[j]:\n",
        "        result+=1\n",
        "  return result"
      ]
    },
    {
      "cell_type": "code",
      "source": [
        "arr = [21,70,36,14,25]\n",
        "result = countInversi(arr)\n",
        "print(result)"
      ],
      "metadata": {
        "colab": {
          "base_uri": "https://localhost:8080/"
        },
        "id": "UEplhcJC858I",
        "outputId": "b764af5c-a301-468e-c65a-61c4d33424d9"
      },
      "execution_count": 32,
      "outputs": [
        {
          "output_type": "stream",
          "name": "stdout",
          "text": [
            "6\n"
          ]
        }
      ]
    },
    {
      "cell_type": "code",
      "source": [
        "#hitung Inversi dengan divide and conquer\n",
        "def countinversion(arr):\n",
        "  icount = 0\n",
        "  if len(arr)<=1:\n",
        "    return icount\n",
        "  mid = len(arr)//2\n",
        "  left=arr[:mid]\n",
        "  right=arr[mid:]\n",
        "  icount += countinversion(left)\n",
        "  icount += countinversion(right)\n",
        "  i = j = k = 0\n",
        "\n",
        "  #print(left)\n",
        "  #print(right)\n",
        "  while i < len(left) and j < len(right):\n",
        "    if left[i]<right[j]:\n",
        "      arr[k]=left[i]\n",
        "      i+=1\n",
        "    else:\n",
        "      arr[k]=right[j]\n",
        "      j+=1\n",
        "      icount+=(mid-i)\n",
        "    k += 1\n",
        "  while i < len(left):\n",
        "    arr[k] = left[i]\n",
        "    i += 1\n",
        "    k += 1\n",
        "  while j < len(right):\n",
        "    arr[k]=right[j]\n",
        "    j+=1\n",
        "    k+=1\n",
        "  return icount\n",
        "\n",
        "arr = [1,20,6,4,5]\n",
        "result = countinversion(arr)\n",
        "print(result)"
      ],
      "metadata": {
        "colab": {
          "base_uri": "https://localhost:8080/"
        },
        "id": "9md0TLp1hW71",
        "outputId": "c9b91944-abd5-4db5-cb58-4f9797c99001"
      },
      "execution_count": 33,
      "outputs": [
        {
          "output_type": "stream",
          "name": "stdout",
          "text": [
            "5\n"
          ]
        }
      ]
    },
    {
      "cell_type": "code",
      "source": [
        "#total semua element list\n",
        "arr = [3,7,5,2,1,8,9]\n",
        "total = 0\n",
        "for i in range (len(arr)):\n",
        "  total = total + arr[i]\n",
        "print (total)"
      ],
      "metadata": {
        "colab": {
          "base_uri": "https://localhost:8080/"
        },
        "id": "xuNQDcEwEs0c",
        "outputId": "dce28a98-8fc0-4306-90f9-195ea1b4af97"
      },
      "execution_count": 34,
      "outputs": [
        {
          "output_type": "stream",
          "name": "stdout",
          "text": [
            "35\n"
          ]
        }
      ]
    },
    {
      "cell_type": "code",
      "source": [
        "# mencari nilai maksimal dan minimal\n",
        "def divideandconquer_max(arr,ind,len):\n",
        "  maximum = -1;\n",
        "\n",
        "  if (ind >= len - 2):\n",
        "    if(arr[ind]>arr [ind + 1]):\n",
        "      return arr[ind];\n",
        "    else:\n",
        "      return arr[ind+1];\n",
        "\n",
        "  maximum = divideandconquer_max(arr,ind + 1, len);\n",
        "\n",
        "  if (arr[ind]> maximum) :\n",
        "    return arr[ind];\n",
        "  else:\n",
        "    return maximum;\n"
      ],
      "metadata": {
        "id": "hhzofg9V9oEh"
      },
      "execution_count": 35,
      "outputs": []
    },
    {
      "cell_type": "code",
      "source": [
        "def divideandconquer_min(arr,ind,len):\n",
        "  minimum = 0 ;\n",
        "\n",
        "  if (ind >= len - 2):\n",
        "    if(arr[ind]< arr [ind + 1]):\n",
        "      return arr[ind];\n",
        "    else:\n",
        "      return arr[ind+1];\n",
        "\n",
        "  minimum = divideandconquer_min(arr,ind + 1, len);\n",
        "\n",
        "  if (arr[ind]< minimum) :\n",
        "    return arr[ind];\n",
        "  else:\n",
        "    return minimum;"
      ],
      "metadata": {
        "id": "a3V3zI2cBoJV"
      },
      "execution_count": 36,
      "outputs": []
    },
    {
      "cell_type": "code",
      "source": [
        "#array initializazion\n",
        "\n",
        "arr = [4,12,23,9,21,1,35,2,24];\n",
        "\n",
        "maximum = divideandconquer_max(arr, 0, 9);\n",
        "minimum = divideandconquer_min(arr,0,9);\n",
        "print (\"the minimum number is\", minimum);\n",
        "print(\"the maximum number is\", maximum);"
      ],
      "metadata": {
        "colab": {
          "base_uri": "https://localhost:8080/"
        },
        "id": "HHdEXM1YCCSd",
        "outputId": "38ecafb6-1efc-4750-acf5-5e618ed021a3"
      },
      "execution_count": 37,
      "outputs": [
        {
          "output_type": "stream",
          "name": "stdout",
          "text": [
            "the minimum number is 1\n",
            "the maximum number is 35\n"
          ]
        }
      ]
    },
    {
      "cell_type": "code",
      "source": [
        "#merge sort\n",
        "\n",
        "def mergesort(array):\n",
        "  if len(array) > 1:\n",
        "    r = len(array)//2\n",
        "    l = array[:r]\n",
        "    m = array [r:]\n",
        "    mergesort(l)\n",
        "    mergesort(m)\n",
        "\n",
        "    i = j = k = 0\n",
        "    while i < len(l) and j < len (m):\n",
        "      if l[i] < m [j]:\n",
        "        array[k] = l[i]\n",
        "        i += 1\n",
        "      else:\n",
        "        array[k] = m[j]\n",
        "        j += 1\n",
        "      k += 1\n",
        "    while i < len(l):\n",
        "      array[k]=l[i]\n",
        "      i += 1\n",
        "      k += 1\n",
        "    while j < len(m):\n",
        "      array[k] = m[j]\n",
        "      j += 1\n",
        "      k += 1\n",
        "\n",
        "def printlist(array):\n",
        "  for i in range (len(array)):\n",
        "    print(array[i], end=\" \")\n",
        "  print()\n",
        "\n",
        "array = [4,12,23,9,21,1,35,2,24]\n",
        "\n",
        "mergesort(array)\n",
        "print(\"sorted array is: \")\n",
        "printlist(array)"
      ],
      "metadata": {
        "colab": {
          "base_uri": "https://localhost:8080/"
        },
        "id": "Mnz_hTCGC-Cl",
        "outputId": "3d3afa2d-a287-4d79-8684-beb196332c45"
      },
      "execution_count": 38,
      "outputs": [
        {
          "output_type": "stream",
          "name": "stdout",
          "text": [
            "sorted array is: \n",
            "1 2 4 9 12 21 23 24 35 \n"
          ]
        }
      ]
    },
    {
      "cell_type": "code",
      "source": [
        "# Quick-Sort\n",
        "# Funtion to find the partition position\n",
        "\n",
        "def partition(array, low ,high):\n",
        "  pivot = array[high]\n",
        "\n",
        "  i = low - 1\n",
        "\n",
        "  for j in range(low,high):\n",
        "    if array [j] <= pivot:\n",
        "      i = i + 1\n",
        "      (array[i],array[j]) = (array[j],array[i])\n",
        "  (array[i+1],array[high]) = (array[high],array[i+1])\n",
        "  return i + 1\n",
        "\n",
        "def quicksort(array,low,high):\n",
        "  if low < high:\n",
        "    pi = partition(array,low,high)\n",
        "    quicksort(array,low,pi - 1)\n",
        "    quicksort(array,pi+1,high)\n",
        "\n",
        "data = [4,12,23,9,21,1,35,2,24]\n",
        "\n",
        "print(\"Unsorted Array: \")\n",
        "print(data)\n",
        "\n",
        "size = len(data)\n",
        "\n",
        "quicksort(data,0,size-1)\n",
        "print(\"Sorted array is in ascending order: \")\n",
        "print(data)\n"
      ],
      "metadata": {
        "colab": {
          "base_uri": "https://localhost:8080/"
        },
        "id": "wkfW9Fz0QJrZ",
        "outputId": "0ca84ff0-002f-4a3a-8572-3439768bef98"
      },
      "execution_count": 39,
      "outputs": [
        {
          "output_type": "stream",
          "name": "stdout",
          "text": [
            "Unsorted Array: \n",
            "[4, 12, 23, 9, 21, 1, 35, 2, 24]\n",
            "Sorted array is in ascending order: \n",
            "[1, 2, 4, 9, 12, 21, 23, 24, 35]\n"
          ]
        }
      ]
    },
    {
      "cell_type": "code",
      "source": [
        "# Maximum Subarray sum\n",
        "# tanpa Divide dan conquer\n",
        "\n",
        "def maxsubsum(arr):\n",
        "  max_so_far=0\n",
        "  max_ending_here=0\n",
        "  for i in range(len(arr)):\n",
        "    max_ending_here+=arr[i]\n",
        "    if max_ending_here > max_so_far:\n",
        "      max_so_far=max_ending_here\n",
        "    if max_ending_here < 0 :\n",
        "      max_ending_here= 0\n",
        "  return max_so_far\n",
        "\n",
        "arr = [-2,-5,6,-2,-3,1,5,-6]\n",
        "\n",
        "result = maxsubsum(arr)\n",
        "\n",
        "print(result)"
      ],
      "metadata": {
        "colab": {
          "base_uri": "https://localhost:8080/"
        },
        "id": "0gWq80jmVXlX",
        "outputId": "4171597a-c1ac-45e6-f386-2733642d5fa7"
      },
      "execution_count": 40,
      "outputs": [
        {
          "output_type": "stream",
          "name": "stdout",
          "text": [
            "7\n"
          ]
        }
      ]
    },
    {
      "cell_type": "code",
      "source": [
        "#menggunakan Divede and Qoncuer\n",
        "\n",
        "def maxcrossingsum(arr,low,mid,high):\n",
        "  result = 0;leftsum=float('-infinity')\n",
        "  for i in range(mid,low-1,-1):\n",
        "    result += arr[i]\n",
        "    if result > leftsum:\n",
        "      leftsum = result\n",
        "  result = 0; rightsum=float('-infinity')\n",
        "  for i in range(mid + 1,high+1):\n",
        "    result += arr[i]\n",
        "    if result > rightsum:\n",
        "      rightsum = result\n",
        "  return leftsum + rightsum\n",
        "\n",
        "def maxsum(arr,low,high):\n",
        "  if low == high:\n",
        "    return arr[low]\n",
        "  mid = (low+high) //2\n",
        "  return max(maxsum(arr,low,mid),\n",
        "             maxsum(arr,mid+1,high),\n",
        "             maxcrossingsum(arr,low,mid,high))\n",
        "\n",
        "arr = [-2,-5,6,-2,-3,1,5,-6]\n",
        "result = maxsum(arr,0,len(arr)-1)\n",
        "print(result)"
      ],
      "metadata": {
        "colab": {
          "base_uri": "https://localhost:8080/"
        },
        "id": "UPW5iGmjWlt9",
        "outputId": "c71aa568-f473-4e93-a8ad-eb67c372eecc"
      },
      "execution_count": 41,
      "outputs": [
        {
          "output_type": "stream",
          "name": "stdout",
          "text": [
            "7\n"
          ]
        }
      ]
    },
    {
      "cell_type": "code",
      "source": [
        "#longest Common Prefix\n",
        "\n",
        "def longestcommonprefix (a):\n",
        "  size = len(a)\n",
        "  if (size == 0):\n",
        "    return \"\"\n",
        "  if (size == 1):\n",
        "    return [0]\n",
        "  a.sort()\n",
        "  end = min(len(a[0]),len(a[size - 1]))\n",
        "  i = 0\n",
        "  while (i < end and a[0][i]== a[size-1][i]):\n",
        "    i += 1\n",
        "  pre = a[0][0:i]\n",
        "  return pre\n",
        "\n",
        "\n",
        "arr = [\"apple\",\"ape\",\"aprill\"]\n",
        "result = longestcommonprefix(arr)\n",
        "print(result)"
      ],
      "metadata": {
        "colab": {
          "base_uri": "https://localhost:8080/"
        },
        "id": "_nAD9XV5eZRy",
        "outputId": "6fe5ec71-453f-4810-c4be-c61720ba3f55"
      },
      "execution_count": 42,
      "outputs": [
        {
          "output_type": "stream",
          "name": "stdout",
          "text": [
            "ap\n"
          ]
        }
      ]
    },
    {
      "cell_type": "code",
      "source": [
        "# median dari dua array dengan divide dan conquer\n",
        "\n",
        "def medianofarray(arr1,arr2,n):\n",
        "  m1=-1\n",
        "  m2=-1\n",
        "  count = 0\n",
        "  i=j=0\n",
        "  while count<n+1:\n",
        "    count += 1\n",
        "    if i == n:\n",
        "      m1 = m2\n",
        "      m2 = arr2[0]\n",
        "      break\n",
        "    if j == n:\n",
        "      m1 = m2\n",
        "      m2 = arr1[0]\n",
        "      break\n",
        "    if arr1[i]<arr2[j]:\n",
        "      m1 = m2\n",
        "      m2 = arr1[i]\n",
        "      i += 1\n",
        "    else :\n",
        "      m1 = m2\n",
        "      m2 = arr2[j]\n",
        "      j += 1\n",
        "  return (m1+m2)//2\n",
        "\n",
        "arr1 = [1,12,15,26,38]\n",
        "arr2 = [2,13,17,30,45]\n",
        "\n",
        "print(medianofarray(arr1,arr2,len(arr1)))"
      ],
      "metadata": {
        "colab": {
          "base_uri": "https://localhost:8080/"
        },
        "id": "7lRZibuFf08q",
        "outputId": "36413407-2647-47a1-d20b-a912b17e6dfe"
      },
      "execution_count": 43,
      "outputs": [
        {
          "output_type": "stream",
          "name": "stdout",
          "text": [
            "16\n"
          ]
        }
      ]
    },
    {
      "cell_type": "code",
      "source": [
        "def solution(arr):\n",
        "  n = len(arr)\n",
        "  if n%2 == 0:\n",
        "    z = n // 2\n",
        "    e = arr[z]\n",
        "    q = arr[z -1]\n",
        "    ans = (e + q)/ 2\n",
        "    return ans\n",
        "  else:\n",
        "    z = n//2\n",
        "    ans = arr[z]\n",
        "    return ans\n",
        "\n",
        "arr1 = [-5,3,6,12,15]\n",
        "arr2 = [-12,-10,-6,-3,4,10]\n",
        "arr3 = arr1 + arr2\n",
        "arr3.sort()\n",
        "print(\"median= \",solution(arr3))"
      ],
      "metadata": {
        "colab": {
          "base_uri": "https://localhost:8080/"
        },
        "id": "g2wC1nSJhJYi",
        "outputId": "7ff5018e-a3ff-429f-8ff8-6891ed11f187"
      },
      "execution_count": 44,
      "outputs": [
        {
          "output_type": "stream",
          "name": "stdout",
          "text": [
            "median=  3\n"
          ]
        }
      ]
    },
    {
      "cell_type": "code",
      "source": [
        "#floor in sorted array\n",
        "def floorsorted(arr,low,high,x):\n",
        "  if low > high:\n",
        "    return -1\n",
        "\n",
        "  if arr[low]>x :\n",
        "    return -1\n",
        "\n",
        "  if arr[high]<=x:\n",
        "    return arr[high]\n",
        "\n",
        "  mid = (low+high)//2\n",
        "\n",
        "  if arr[mid]==x:\n",
        "    return arr[mid]\n",
        "  if mid > 0 and x >= arr[mid-1] and arr[mid]>x:\n",
        "    return arr[mid-1]\n",
        "  if mid < high and x < arr[mid+1] and x>=arr[mid]:\n",
        "    return arr[mid]\n",
        "  if x > arr[mid]:\n",
        "    return floorsorted(arr,mid+1,high,x)\n",
        "  else:\n",
        "    return floorsorted(arr,low,mid-1,x)\n",
        "\n",
        "arr = [1,2,8,10,12,14,19]\n",
        "x = 5\n",
        "print(floorsorted(arr,0,len(arr)-1,x))"
      ],
      "metadata": {
        "id": "NaYLF2qPibzh",
        "colab": {
          "base_uri": "https://localhost:8080/"
        },
        "outputId": "4d3f178f-9565-4cd1-953e-006129f9c58b"
      },
      "execution_count": 45,
      "outputs": [
        {
          "output_type": "stream",
          "name": "stdout",
          "text": [
            "2\n"
          ]
        }
      ]
    },
    {
      "cell_type": "code",
      "source": [
        "#mencari nilai terdekat dengan metode devide and conquer\n",
        "\n",
        "def closestnumber(arr,low,high,x):\n",
        "  if low > high :\n",
        "    return -1\n",
        "  if arr[high]<=x:\n",
        "    return arr [high]\n",
        "  if arr[low]>=x:\n",
        "    return arr[low]\n",
        "  mid = (low + high)//2\n",
        "  if arr[mid]==x:\n",
        "    return arr[mid]\n",
        "  abs_mid=abs(arr[mid]-x)\n",
        "\n",
        "  if mid > 0 :\n",
        "    abs_left = abs(arr[mid-1]-x)\n",
        "    if abs_left < abs_mid:\n",
        "      return closestnumber(arr,low,high,x)\n",
        "\n",
        "  if mid < high :\n",
        "    abs_right = abs(arr[mid+1]-x)\n",
        "    if abs_right < abs_mid :\n",
        "      return closestnumber(arr,mid+1,high,x)\n",
        "\n",
        "  return arr[mid]\n",
        "\n",
        "arr=[2,5,6,7,8,8,9]\n",
        "x = 9\n",
        "print (closestnumber(arr,0,len(arr)-1,x))\n"
      ],
      "metadata": {
        "id": "hn2DcJiNmHJX",
        "colab": {
          "base_uri": "https://localhost:8080/"
        },
        "outputId": "cc455671-3fd7-4726-9324-e950c2c6d14f"
      },
      "execution_count": 46,
      "outputs": [
        {
          "output_type": "stream",
          "name": "stdout",
          "text": [
            "9\n"
          ]
        }
      ]
    },
    {
      "cell_type": "code",
      "source": [
        "# nilai terdekat tanpa Divede and conquer\n",
        "\n",
        "def find_closest(lst,k):\n",
        "  lst.sort()\n",
        "  closest_num = lst[0]\n",
        "  for num in lst:\n",
        "    if abs(num-k)< abs(closest_num - k):\n",
        "      closest_num = num\n",
        "    if num > k:\n",
        "      break\n",
        "  return closest_num\n",
        "\n",
        "lst = [3.64,5.2,9.42,9.35,8.5,8]\n",
        "k = 9.1\n",
        "print(find_closest(lst,k))"
      ],
      "metadata": {
        "colab": {
          "base_uri": "https://localhost:8080/"
        },
        "id": "1OXOp_UWemHh",
        "outputId": "fd226c70-b287-429f-8705-0afdb57ee9ab"
      },
      "execution_count": 47,
      "outputs": [
        {
          "output_type": "stream",
          "name": "stdout",
          "text": [
            "9.35\n"
          ]
        }
      ]
    },
    {
      "cell_type": "code",
      "source": [
        "lst = [2,5,5,7,8,8,9]\n",
        "k = 6\n",
        "print(find_closest(lst,k))"
      ],
      "metadata": {
        "colab": {
          "base_uri": "https://localhost:8080/"
        },
        "id": "N4VF91FgfMDk",
        "outputId": "ec2bd968-3842-4d18-b6aa-75b775b0a8ed"
      },
      "execution_count": 48,
      "outputs": [
        {
          "output_type": "stream",
          "name": "stdout",
          "text": [
            "5\n"
          ]
        }
      ]
    },
    {
      "cell_type": "code",
      "source": [
        "#mencari Fixed point dengan Divide and conquer\n",
        "\n",
        "def fixedpoint(arr,low,high):\n",
        "  if low > high:\n",
        "    return -1\n",
        "  if arr[high]==high:\n",
        "    return arr[high]\n",
        "  if arr[low]==low:\n",
        "    return arr[low]\n",
        "  mid = (low+high)//2\n",
        "  if arr[mid]==mid:\n",
        "    return arr[mid]\n",
        "  if mid > arr[mid]:\n",
        "    return fixedpoint(arr,mid+1,high)\n",
        "  else:\n",
        "    return fixedpoint(arr,low,mid-1)\n",
        "\n",
        "arr = [9,1,4,5,2]\n",
        "\n",
        "print(fixedpoint(arr,0,len(arr)-1))"
      ],
      "metadata": {
        "colab": {
          "base_uri": "https://localhost:8080/"
        },
        "id": "szI1Dra9f0yh",
        "outputId": "1a945916-1298-4e9a-8173-b09f8ae28667"
      },
      "execution_count": 49,
      "outputs": [
        {
          "output_type": "stream",
          "name": "stdout",
          "text": [
            "1\n"
          ]
        }
      ]
    }
  ]
}