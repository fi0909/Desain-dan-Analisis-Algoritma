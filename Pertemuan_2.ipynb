{
  "nbformat": 4,
  "nbformat_minor": 0,
  "metadata": {
    "colab": {
      "provenance": [],
      "authorship_tag": "ABX9TyMuM2yRH8Pw+M+pnRjSofzw",
      "include_colab_link": true
    },
    "kernelspec": {
      "name": "python3",
      "display_name": "Python 3"
    },
    "language_info": {
      "name": "python"
    }
  },
  "cells": [
    {
      "cell_type": "markdown",
      "metadata": {
        "id": "view-in-github",
        "colab_type": "text"
      },
      "source": [
        "<a href=\"https://colab.research.google.com/github/fi0909/Desain-dan-Analisis-Algoritma/blob/main/Pertemuan_2.ipynb\" target=\"_parent\"><img src=\"https://colab.research.google.com/assets/colab-badge.svg\" alt=\"Open In Colab\"/></a>"
      ]
    },
    {
      "cell_type": "code",
      "execution_count": 15,
      "metadata": {
        "colab": {
          "base_uri": "https://localhost:8080/"
        },
        "id": "j7_f5D4b3WhR",
        "outputId": "3854d56b-a631-422f-89fd-2db1ba28dc53"
      },
      "outputs": [
        {
          "output_type": "stream",
          "name": "stdout",
          "text": [
            "[1, 2, 3, 4, 5, 6]\n",
            "[5, 7, 9]\n"
          ]
        }
      ],
      "source": [
        "import numpy as np\n",
        "a = [1,2,3]\n",
        "b = [4,5,6]\n",
        "hasil = a + b\n",
        "print (hasil)\n",
        "def add (list_a,list_b):\n",
        "    result = []\n",
        "    for first, second in zip (list_a,list_b):\n",
        "      result.append(first+second)\n",
        "    return result\n",
        "print (add(a,b))\n"
      ]
    },
    {
      "cell_type": "code",
      "source": [
        "import numpy as np\n",
        "nilai_siswa = np.array([85,55,40,90])\n",
        "print (nilai_siswa[2])\n"
      ],
      "metadata": {
        "colab": {
          "base_uri": "https://localhost:8080/"
        },
        "id": "Gurg3tix6svu",
        "outputId": "71f0bc2c-3107-4e6a-9075-e3f85a9e813e"
      },
      "execution_count": 28,
      "outputs": [
        {
          "output_type": "stream",
          "name": "stdout",
          "text": [
            "40\n"
          ]
        }
      ]
    },
    {
      "cell_type": "code",
      "source": [
        "import numpy as np\n",
        "print (np.__version__)"
      ],
      "metadata": {
        "colab": {
          "base_uri": "https://localhost:8080/"
        },
        "id": "_KcLuaZ57xiR",
        "outputId": "16215a83-aa3b-4cd7-922f-703fa8ebe36e"
      },
      "execution_count": 19,
      "outputs": [
        {
          "output_type": "stream",
          "name": "stdout",
          "text": [
            "1.23.5\n"
          ]
        }
      ]
    },
    {
      "cell_type": "code",
      "source": [
        "print(\"hello world!\")\n",
        "print(\"Nama saya FI\")\n",
        "print(\"NIM saya 2020031082\")\n",
        "if 5>2:\n",
        "  print(\"Five is greater than two!\")"
      ],
      "metadata": {
        "colab": {
          "base_uri": "https://localhost:8080/"
        },
        "id": "0VhKpKJA9WUP",
        "outputId": "941ad6ea-dbdf-4475-960f-06c5db6d0f1e"
      },
      "execution_count": 24,
      "outputs": [
        {
          "output_type": "stream",
          "name": "stdout",
          "text": [
            "hello world!\n",
            "Nama saya FI\n",
            "NIM saya 2020031082\n",
            "Five is greater than two!\n"
          ]
        }
      ]
    },
    {
      "cell_type": "code",
      "source": [
        "x = 5\n",
        "y = \"john\"\n",
        "print (x)\n",
        "print (y)"
      ],
      "metadata": {
        "colab": {
          "base_uri": "https://localhost:8080/"
        },
        "id": "2PGQ07jt-0Sv",
        "outputId": "ca3107e0-2b5e-419c-dd04-e447a95659fc"
      },
      "execution_count": 26,
      "outputs": [
        {
          "output_type": "stream",
          "name": "stdout",
          "text": [
            "5 john\n",
            "john\n"
          ]
        }
      ]
    },
    {
      "cell_type": "code",
      "source": [
        "x = 4\n",
        "x = \"Sally\"\n",
        "print(x)"
      ],
      "metadata": {
        "colab": {
          "base_uri": "https://localhost:8080/"
        },
        "id": "AlwR-9o__EAX",
        "outputId": "3b959485-874e-4b25-d066-e0ad94f08d3f"
      },
      "execution_count": 27,
      "outputs": [
        {
          "output_type": "stream",
          "name": "stdout",
          "text": [
            "Sally\n"
          ]
        }
      ]
    },
    {
      "cell_type": "code",
      "source": [
        "def pertama(listku):\n",
        "  return listku[0]\n",
        "pertama([1,2,3])\n",
        "pertama([1,2,3,4,5,6,7,8,9])"
      ],
      "metadata": {
        "colab": {
          "base_uri": "https://localhost:8080/"
        },
        "id": "uu7CH69uAFWW",
        "outputId": "ea0f790a-5771-4090-bf09-943a02939b1d"
      },
      "execution_count": 32,
      "outputs": [
        {
          "output_type": "execute_result",
          "data": {
            "text/plain": [
              "9"
            ]
          },
          "metadata": {},
          "execution_count": 32
        }
      ]
    },
    {
      "cell_type": "code",
      "source": [
        "def kedua(listku):\n",
        "    return listku[1]\n",
        "kedua([3,7,6,4,11])"
      ],
      "metadata": {
        "colab": {
          "base_uri": "https://localhost:8080/"
        },
        "id": "tpmRyY4YBWJo",
        "outputId": "e1021b25-b3f3-4ab8-d9c8-e658b177e565"
      },
      "execution_count": 31,
      "outputs": [
        {
          "output_type": "execute_result",
          "data": {
            "text/plain": [
              "2"
            ]
          },
          "metadata": {},
          "execution_count": 31
        }
      ]
    },
    {
      "cell_type": "code",
      "source": [
        "def terakhir(listku):\n",
        "  return listku[0-1]\n",
        "terakhir ([3,4,7,9])"
      ],
      "metadata": {
        "colab": {
          "base_uri": "https://localhost:8080/"
        },
        "id": "t7SOyzJfBvI1",
        "outputId": "e46abc4a-6e84-44a6-b0b5-391dd6c8e721"
      },
      "execution_count": 52,
      "outputs": [
        {
          "output_type": "execute_result",
          "data": {
            "text/plain": [
              "9"
            ]
          },
          "metadata": {},
          "execution_count": 52
        }
      ]
    },
    {
      "cell_type": "code",
      "source": [
        "def terakhir(listku):\n",
        "  return listku[len(listku)-1]\n",
        "terakhir([3,4,7,9])"
      ],
      "metadata": {
        "colab": {
          "base_uri": "https://localhost:8080/"
        },
        "id": "HCB4V6Q2Mkt8",
        "outputId": "94fc28f9-4b0f-4f9c-d924-9c44f7bcce1e"
      },
      "execution_count": 53,
      "outputs": [
        {
          "output_type": "execute_result",
          "data": {
            "text/plain": [
              "9"
            ]
          },
          "metadata": {},
          "execution_count": 53
        }
      ]
    },
    {
      "cell_type": "code",
      "source": [
        "def jumtol(listku):\n",
        "  sum=0\n",
        "  for item in listku:\n",
        "    sum = sum+item\n",
        "  return sum\n",
        "\n",
        "jumtol ([1,2,3,4])"
      ],
      "metadata": {
        "colab": {
          "base_uri": "https://localhost:8080/"
        },
        "id": "q1z7dgPjCpNG",
        "outputId": "03c57648-27ac-45b1-b58b-2f81ff178456"
      },
      "execution_count": 34,
      "outputs": [
        {
          "output_type": "execute_result",
          "data": {
            "text/plain": [
              "45"
            ]
          },
          "metadata": {},
          "execution_count": 34
        }
      ]
    },
    {
      "cell_type": "code",
      "source": [
        "def kaltol(listku):\n",
        "  sum=1\n",
        "  for item in listku:\n",
        "    sum = sum*item\n",
        "  return sum\n",
        "\n",
        "kaltol ([1,2,3,4])"
      ],
      "metadata": {
        "colab": {
          "base_uri": "https://localhost:8080/"
        },
        "id": "_4-Y63c7Djtm",
        "outputId": "906cf23e-4190-4e5a-f32a-dcfd7d520372"
      },
      "execution_count": 39,
      "outputs": [
        {
          "output_type": "execute_result",
          "data": {
            "text/plain": [
              "24"
            ]
          },
          "metadata": {},
          "execution_count": 39
        }
      ]
    },
    {
      "cell_type": "code",
      "source": [
        "def bagtol(listku):\n",
        "  sum=1\n",
        "  for item in listku:\n",
        "    sum = sum/item\n",
        "  return sum\n",
        "\n",
        "kaltol ([1,2,3,4])"
      ],
      "metadata": {
        "colab": {
          "base_uri": "https://localhost:8080/"
        },
        "id": "WLF-QN9GESCv",
        "outputId": "25d6514a-4a76-4ee2-8320-7b057158798c"
      },
      "execution_count": 40,
      "outputs": [
        {
          "output_type": "execute_result",
          "data": {
            "text/plain": [
              "0.041666666666666664"
            ]
          },
          "metadata": {},
          "execution_count": 40
        }
      ]
    },
    {
      "cell_type": "code",
      "source": [
        "def jumtol(listku):\n",
        "  sum = 0\n",
        "  for row in listku:\n",
        "    for item in row:\n",
        "      sum += item\n",
        "  return sum\n",
        "jumtol([[1,2,5],[3,4,7]])"
      ],
      "metadata": {
        "colab": {
          "base_uri": "https://localhost:8080/"
        },
        "id": "4ovx9QLYEcHH",
        "outputId": "3a91cfe3-a47c-4640-c55a-8e9b8d130edb"
      },
      "execution_count": 43,
      "outputs": [
        {
          "output_type": "execute_result",
          "data": {
            "text/plain": [
              "22"
            ]
          },
          "metadata": {},
          "execution_count": 43
        }
      ]
    },
    {
      "cell_type": "code",
      "source": [
        "def bagtol(listku):\n",
        "  sum = 1\n",
        "  for row in listku:\n",
        "    for item in row:\n",
        "      sum = sum/item\n",
        "  return sum\n",
        "bagtol([[1,2,5],[3,4,7]])"
      ],
      "metadata": {
        "colab": {
          "base_uri": "https://localhost:8080/"
        },
        "id": "NJmq3vV_FTDH",
        "outputId": "f16adb72-a77c-4f1c-ea93-38d203f2b398"
      },
      "execution_count": 42,
      "outputs": [
        {
          "output_type": "execute_result",
          "data": {
            "text/plain": [
              "0.0011904761904761904"
            ]
          },
          "metadata": {},
          "execution_count": 42
        }
      ]
    },
    {
      "cell_type": "code",
      "source": [
        "def kaltol(listku):\n",
        "  sum= 1\n",
        "  for row in listku:\n",
        "    for item in row:\n",
        "      sum= sum*item\n",
        "  return sum\n",
        "kaltol([[1,2,5],[3,4,7]])"
      ],
      "metadata": {
        "colab": {
          "base_uri": "https://localhost:8080/"
        },
        "id": "-3truXmEG8qX",
        "outputId": "8a845330-357f-4fdf-d17c-b131de035cca"
      },
      "execution_count": 44,
      "outputs": [
        {
          "output_type": "execute_result",
          "data": {
            "text/plain": [
              "840"
            ]
          },
          "metadata": {},
          "execution_count": 44
        }
      ]
    }
  ]
}