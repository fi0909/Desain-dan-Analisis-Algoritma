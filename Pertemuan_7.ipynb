{
 "cells": [
  {
   "cell_type": "code",
   "execution_count": 3,
   "metadata": {},
   "outputs": [
    {
     "name": "stdout",
     "output_type": "stream",
     "text": [
      "7 Adalah Angka Prima\n"
     ]
    }
   ],
   "source": [
    "#slide ke-22\n",
    "#Uji Keprimaan\n",
    "\n",
    "x = int(input('Input Satu angka bulat: '))\n",
    "\n",
    "angka_prima = True\n",
    "if((x==0) or (x==1)):\n",
    "    angka_prima = False\n",
    "else:\n",
    "    for i in range(2,(x//2)):\n",
    "        if((x%i)== 0):\n",
    "            angka_prima = False\n",
    "            break\n",
    "\n",
    "if(angka_prima):\n",
    "    print(x,'Adalah Angka Prima')\n",
    "else:\n",
    "    print(x,'bukan angka prima')"
   ]
  },
  {
   "cell_type": "code",
   "execution_count": 4,
   "metadata": {},
   "outputs": [],
   "source": [
    "#slide 25\n",
    "def polynomial_py(a,x):\n",
    "    result = 0\n",
    "    for n,a_n in enumerate(a):\n",
    "        x_power_n = 1\n",
    "        for i in range(n):\n",
    "            x_power_n *= x\n",
    "        result += a_n * x_power_n\n",
    "    return result\n"
   ]
  },
  {
   "cell_type": "code",
   "execution_count": 5,
   "metadata": {},
   "outputs": [
    {
     "name": "stdout",
     "output_type": "stream",
     "text": [
      "14.125\n"
     ]
    }
   ],
   "source": [
    "a = [1,2,0,3]# coefficient\n",
    "x = 1.5\n",
    "print(polynomial_py(a,x))"
   ]
  },
  {
   "cell_type": "code",
   "execution_count": 6,
   "metadata": {},
   "outputs": [
    {
     "name": "stdout",
     "output_type": "stream",
     "text": [
      "The orginal string is : GFG is good website\n",
      "The original list is: ['GFG', 'stie', 'Geeks', 'Tutorial']\n",
      "The list of foun subsrings : ['GFG']\n"
     ]
    }
   ],
   "source": [
    "#slide 34\n",
    "#Get Matching substring in string\n",
    "# Initializing string\n",
    "test_str = \"GFG is good website\";\n",
    "\n",
    "#initializing potential substrings\n",
    "test_list = [\"GFG\",\"stie\",\"Geeks\",\"Tutorial\"]\n",
    "\n",
    "#printing original string\n",
    "print(\"The orginal string is : \"+ test_str)\n",
    "\n",
    "#printing potential string list\n",
    "print(\"The original list is: \"+str(test_list))\n",
    "\n",
    "#using list comprehension\n",
    "#Get matching substrings in string\n",
    "res = [sub for sub in test_list if sub in test_str]\n",
    "#printing result\n",
    "print(\"The list of foun subsrings : \"+ str(res))"
   ]
  },
  {
   "cell_type": "code",
   "execution_count": 7,
   "metadata": {},
   "outputs": [
    {
     "name": "stdout",
     "output_type": "stream",
     "text": [
      "Titik:\n",
      " [[23, 17], [36, 24], [60, 20], [50, 54], [70, 46], [1, 28], [26, 73], [85, 7], [70, 91], [29, 57], [90, 66], [18, 55]]\n",
      "Titik:  list[0] Titik:  list[1]  : 14.7648230602334\n",
      "Titik:  list[0] Titik:  list[2]  : 37.12142238654117\n",
      "Titik:  list[0] Titik:  list[3]  : 45.803929962395145\n",
      "Titik:  list[0] Titik:  list[4]  : 55.226805085936306\n",
      "Titik:  list[0] Titik:  list[5]  : 24.596747752497688\n",
      "Titik:  list[0] Titik:  list[6]  : 56.08029957123981\n",
      "Titik:  list[0] Titik:  list[7]  : 62.80127387243033\n",
      "Titik:  list[0] Titik:  list[8]  : 87.66413177577246\n",
      "Titik:  list[0] Titik:  list[9]  : 40.44749683231337\n",
      "Titik:  list[0] Titik:  list[10]  : 83.00602387778854\n",
      "Titik:  list[0] Titik:  list[11]  : 38.3275357934736\n",
      "Titik:  list[1] Titik:  list[2]  : 24.331050121192877\n",
      "Titik:  list[1] Titik:  list[3]  : 33.1058907144937\n",
      "Titik:  list[1] Titik:  list[4]  : 40.496913462633174\n",
      "Titik:  list[1] Titik:  list[5]  : 35.22782990761707\n",
      "Titik:  list[1] Titik:  list[6]  : 50.00999900019995\n",
      "Titik:  list[1] Titik:  list[7]  : 51.86520991955976\n",
      "Titik:  list[1] Titik:  list[8]  : 75.13321502504735\n",
      "Titik:  list[1] Titik:  list[9]  : 33.734255586866\n",
      "Titik:  list[1] Titik:  list[10]  : 68.41052550594829\n",
      "Titik:  list[1] Titik:  list[11]  : 35.84689665786984\n",
      "Titik:  list[2] Titik:  list[3]  : 35.4400902933387\n",
      "Titik:  list[2] Titik:  list[4]  : 27.85677655436824\n",
      "Titik:  list[2] Titik:  list[5]  : 59.53990258641679\n",
      "Titik:  list[2] Titik:  list[6]  : 62.96824596572466\n",
      "Titik:  list[2] Titik:  list[7]  : 28.178005607210743\n",
      "Titik:  list[2] Titik:  list[8]  : 71.7007670809734\n",
      "Titik:  list[2] Titik:  list[9]  : 48.27007354458868\n",
      "Titik:  list[2] Titik:  list[10]  : 54.91812087098393\n",
      "Titik:  list[2] Titik:  list[11]  : 54.67174773134658\n",
      "Titik:  list[3] Titik:  list[4]  : 21.540659228538015\n",
      "Titik:  list[3] Titik:  list[5]  : 55.47071299343465\n",
      "Titik:  list[3] Titik:  list[6]  : 30.610455730027933\n",
      "Titik:  list[3] Titik:  list[7]  : 58.60034129593445\n",
      "Titik:  list[3] Titik:  list[8]  : 42.05948168962618\n",
      "Titik:  list[3] Titik:  list[9]  : 21.213203435596427\n",
      "Titik:  list[3] Titik:  list[10]  : 41.7612260356422\n",
      "Titik:  list[3] Titik:  list[11]  : 32.01562118716424\n",
      "Titik:  list[4] Titik:  list[5]  : 71.30918594402827\n",
      "Titik:  list[4] Titik:  list[6]  : 51.62363799656123\n",
      "Titik:  list[4] Titik:  list[7]  : 41.78516483155236\n",
      "Titik:  list[4] Titik:  list[8]  : 45.0\n",
      "Titik:  list[4] Titik:  list[9]  : 42.44997055358225\n",
      "Titik:  list[4] Titik:  list[10]  : 28.284271247461902\n",
      "Titik:  list[4] Titik:  list[11]  : 52.773099207835045\n",
      "Titik:  list[5] Titik:  list[6]  : 51.478150704935004\n",
      "Titik:  list[5] Titik:  list[7]  : 86.58521813797087\n",
      "Titik:  list[5] Titik:  list[8]  : 93.43446901438462\n",
      "Titik:  list[5] Titik:  list[9]  : 40.311288741492746\n",
      "Titik:  list[5] Titik:  list[10]  : 96.77293009927931\n",
      "Titik:  list[5] Titik:  list[11]  : 31.906112267087632\n",
      "Titik:  list[6] Titik:  list[7]  : 88.52683209061533\n",
      "Titik:  list[6] Titik:  list[8]  : 47.53945729601885\n",
      "Titik:  list[6] Titik:  list[9]  : 16.278820596099706\n",
      "Titik:  list[6] Titik:  list[10]  : 64.38167441127949\n",
      "Titik:  list[6] Titik:  list[11]  : 19.697715603592208\n",
      "Titik:  list[7] Titik:  list[8]  : 85.32877591996736\n",
      "Titik:  list[7] Titik:  list[9]  : 75.07329751649384\n",
      "Titik:  list[7] Titik:  list[10]  : 59.21148537234985\n",
      "Titik:  list[7] Titik:  list[11]  : 82.41965784932621\n",
      "Titik:  list[8] Titik:  list[9]  : 53.2634959423431\n",
      "Titik:  list[8] Titik:  list[10]  : 32.01562118716424\n",
      "Titik:  list[8] Titik:  list[11]  : 63.245553203367585\n",
      "Titik:  list[9] Titik:  list[10]  : 61.66036003787198\n",
      "Titik:  list[9] Titik:  list[11]  : 11.180339887498949\n",
      "Titik:  list[10] Titik:  list[11]  : 72.83543093852057\n",
      "Jarak terdekat:\n",
      " 11.180339887498949\n"
     ]
    }
   ],
   "source": [
    "#slide 39\n",
    "from math import sqrt\n",
    "from random import randint\n",
    "titik =[]\n",
    "n = int(input('Masukan jumlah titik yang ingin anda cari jaraknya: '))\n",
    "for i in range (0,n):\n",
    "    titik.append([randint(0,100),randint(0,100)])\n",
    "print('Titik:\\n',titik)\n",
    "def hitungjarak(lis):\n",
    "    lisjarak = []\n",
    "    for i in range (0,len(lis)-1):\n",
    "        for j in range (i+1,len(lis)):\n",
    "            jarak = sqrt((lis[i][0]-lis[j][0])**2+( lis[i][1]-lis[j][1])**2)\n",
    "            lisjarak.append(jarak)\n",
    "            print('Titik: ',list[i],'Titik: ',list[j],\" :\",jarak)\n",
    "    return min(lisjarak)\n",
    "print('Jarak terdekat:\\n',hitungjarak(titik))"
   ]
  },
  {
   "cell_type": "code",
   "execution_count": 8,
   "metadata": {},
   "outputs": [
    {
     "name": "stdout",
     "output_type": "stream",
     "text": [
      "100\n"
     ]
    }
   ],
   "source": [
    "#slide 68\n",
    "#Find Maximum Value in Linear Search\n",
    "\n",
    "def find_maximum(lst):\n",
    "    max = None\n",
    "    for el in lst:\n",
    "        if max == None or el > max:\n",
    "            max = el\n",
    "    return max\n",
    "test_scores = [88,93,75,100,80,67,71,92,90,83]\n",
    "print(find_maximum(test_scores)) #returns 100"
   ]
  },
  {
   "cell_type": "code",
   "execution_count": 9,
   "metadata": {},
   "outputs": [
    {
     "name": "stdout",
     "output_type": "stream",
     "text": [
      "[17, 20, 26, 31, 44, 54, 55, 77, 93]\n"
     ]
    }
   ],
   "source": [
    "#slide 69\n",
    "def bubblesort(alist):\n",
    "    for passnum in range (len(alist)-1,0,-1):\n",
    "        for i in range(passnum):\n",
    "            if alist[i]>alist[i+1]:\n",
    "                temp = alist[i]\n",
    "                alist[i] = alist[i+1]\n",
    "                alist[i+1] = temp\n",
    "alist = [54,26,93,17,77,31,44,55,20]\n",
    "bubblesort(alist)\n",
    "print(alist)"
   ]
  },
  {
   "cell_type": "code",
   "execution_count": 6,
   "metadata": {},
   "outputs": [],
   "source": [
    "#slide 82\n",
    "import random\n",
    "from itertools import permutations\n",
    "alltours = permutations\n",
    "\n",
    "def distance_points(first,second):\n",
    "    return abs(first - second)\n",
    "def distance_tour(aTour):\n",
    "    return sum (distance_points(aTour[i - 1],aTour[i]) for i in range (len(aTour)))\n",
    "\n",
    "aCity = complex\n",
    "\n",
    "def generate_cities (number_of_cities):\n",
    "    seed = 111\n",
    "    width =500\n",
    "    height =300\n",
    "    random.seed(seed)\n",
    "    return frozenset(aCity(random.randint(1,width),random.randint(1,height))for c in range(number_of_cities))"
   ]
  },
  {
   "cell_type": "code",
   "execution_count": 5,
   "metadata": {},
   "outputs": [
    {
     "ename": "ModuleNotFoundError",
     "evalue": "No module named 'matplotlib'",
     "output_type": "error",
     "traceback": [
      "\u001b[1;31m---------------------------------------------------------------------------\u001b[0m",
      "\u001b[1;31mModuleNotFoundError\u001b[0m                       Traceback (most recent call last)",
      "\u001b[1;32mc:\\Users\\croco\\OneDrive\\Documents\\GitHub\\Desain-dan-Analisis-Algoritma\\Pertemuan_7.ipynb Cell 9\u001b[0m line \u001b[0;36m1\n\u001b[1;32m----> <a href='vscode-notebook-cell:/c%3A/Users/croco/OneDrive/Documents/GitHub/Desain-dan-Analisis-Algoritma/Pertemuan_7.ipynb#X11sZmlsZQ%3D%3D?line=0'>1</a>\u001b[0m get_ipython()\u001b[39m.\u001b[39;49mrun_line_magic(\u001b[39m'\u001b[39;49m\u001b[39mmatplotlib\u001b[39;49m\u001b[39m'\u001b[39;49m, \u001b[39m'\u001b[39;49m\u001b[39minline\u001b[39;49m\u001b[39m'\u001b[39;49m)\n\u001b[0;32m      <a href='vscode-notebook-cell:/c%3A/Users/croco/OneDrive/Documents/GitHub/Desain-dan-Analisis-Algoritma/Pertemuan_7.ipynb#X11sZmlsZQ%3D%3D?line=1'>2</a>\u001b[0m \u001b[39mimport\u001b[39;00m \u001b[39mmatplotlib\u001b[39;00m\u001b[39m.\u001b[39;00m\u001b[39mpyplot\u001b[39;00m \u001b[39mas\u001b[39;00m \u001b[39mplt\u001b[39;00m\n\u001b[0;32m      <a href='vscode-notebook-cell:/c%3A/Users/croco/OneDrive/Documents/GitHub/Desain-dan-Analisis-Algoritma/Pertemuan_7.ipynb#X11sZmlsZQ%3D%3D?line=3'>4</a>\u001b[0m \u001b[39mdef\u001b[39;00m \u001b[39mvisualize_tour\u001b[39m(tour, style \u001b[39m=\u001b[39m \u001b[39m'\u001b[39m\u001b[39mbo-\u001b[39m\u001b[39m'\u001b[39m):\n",
      "File \u001b[1;32m~\\AppData\\Roaming\\Python\\Python312-32\\site-packages\\IPython\\core\\interactiveshell.py:2454\u001b[0m, in \u001b[0;36mInteractiveShell.run_line_magic\u001b[1;34m(self, magic_name, line, _stack_depth)\u001b[0m\n\u001b[0;32m   2452\u001b[0m     kwargs[\u001b[39m'\u001b[39m\u001b[39mlocal_ns\u001b[39m\u001b[39m'\u001b[39m] \u001b[39m=\u001b[39m \u001b[39mself\u001b[39m\u001b[39m.\u001b[39mget_local_scope(stack_depth)\n\u001b[0;32m   2453\u001b[0m \u001b[39mwith\u001b[39;00m \u001b[39mself\u001b[39m\u001b[39m.\u001b[39mbuiltin_trap:\n\u001b[1;32m-> 2454\u001b[0m     result \u001b[39m=\u001b[39m fn(\u001b[39m*\u001b[39;49margs, \u001b[39m*\u001b[39;49m\u001b[39m*\u001b[39;49mkwargs)\n\u001b[0;32m   2456\u001b[0m \u001b[39m# The code below prevents the output from being displayed\u001b[39;00m\n\u001b[0;32m   2457\u001b[0m \u001b[39m# when using magics with decorator @output_can_be_silenced\u001b[39;00m\n\u001b[0;32m   2458\u001b[0m \u001b[39m# when the last Python token in the expression is a ';'.\u001b[39;00m\n\u001b[0;32m   2459\u001b[0m \u001b[39mif\u001b[39;00m \u001b[39mgetattr\u001b[39m(fn, magic\u001b[39m.\u001b[39mMAGIC_OUTPUT_CAN_BE_SILENCED, \u001b[39mFalse\u001b[39;00m):\n",
      "File \u001b[1;32m~\\AppData\\Roaming\\Python\\Python312-32\\site-packages\\IPython\\core\\magics\\pylab.py:99\u001b[0m, in \u001b[0;36mPylabMagics.matplotlib\u001b[1;34m(self, line)\u001b[0m\n\u001b[0;32m     97\u001b[0m     \u001b[39mprint\u001b[39m(\u001b[39m\"\u001b[39m\u001b[39mAvailable matplotlib backends: \u001b[39m\u001b[39m%s\u001b[39;00m\u001b[39m\"\u001b[39m \u001b[39m%\u001b[39m backends_list)\n\u001b[0;32m     98\u001b[0m \u001b[39melse\u001b[39;00m:\n\u001b[1;32m---> 99\u001b[0m     gui, backend \u001b[39m=\u001b[39m \u001b[39mself\u001b[39;49m\u001b[39m.\u001b[39;49mshell\u001b[39m.\u001b[39;49menable_matplotlib(args\u001b[39m.\u001b[39;49mgui\u001b[39m.\u001b[39;49mlower() \u001b[39mif\u001b[39;49;00m \u001b[39misinstance\u001b[39;49m(args\u001b[39m.\u001b[39;49mgui, \u001b[39mstr\u001b[39;49m) \u001b[39melse\u001b[39;49;00m args\u001b[39m.\u001b[39;49mgui)\n\u001b[0;32m    100\u001b[0m     \u001b[39mself\u001b[39m\u001b[39m.\u001b[39m_show_matplotlib_backend(args\u001b[39m.\u001b[39mgui, backend)\n",
      "File \u001b[1;32m~\\AppData\\Roaming\\Python\\Python312-32\\site-packages\\IPython\\core\\interactiveshell.py:3628\u001b[0m, in \u001b[0;36mInteractiveShell.enable_matplotlib\u001b[1;34m(self, gui)\u001b[0m\n\u001b[0;32m   3607\u001b[0m \u001b[39mdef\u001b[39;00m \u001b[39menable_matplotlib\u001b[39m(\u001b[39mself\u001b[39m, gui\u001b[39m=\u001b[39m\u001b[39mNone\u001b[39;00m):\n\u001b[0;32m   3608\u001b[0m \u001b[39m    \u001b[39m\u001b[39m\"\"\"Enable interactive matplotlib and inline figure support.\u001b[39;00m\n\u001b[0;32m   3609\u001b[0m \n\u001b[0;32m   3610\u001b[0m \u001b[39m    This takes the following steps:\u001b[39;00m\n\u001b[1;32m   (...)\u001b[0m\n\u001b[0;32m   3626\u001b[0m \u001b[39m        display figures inline.\u001b[39;00m\n\u001b[0;32m   3627\u001b[0m \u001b[39m    \"\"\"\u001b[39;00m\n\u001b[1;32m-> 3628\u001b[0m     \u001b[39mfrom\u001b[39;00m \u001b[39mmatplotlib_inline\u001b[39;00m\u001b[39m.\u001b[39;00m\u001b[39mbackend_inline\u001b[39;00m \u001b[39mimport\u001b[39;00m configure_inline_support\n\u001b[0;32m   3630\u001b[0m     \u001b[39mfrom\u001b[39;00m \u001b[39mIPython\u001b[39;00m\u001b[39m.\u001b[39;00m\u001b[39mcore\u001b[39;00m \u001b[39mimport\u001b[39;00m pylabtools \u001b[39mas\u001b[39;00m pt\n\u001b[0;32m   3631\u001b[0m     gui, backend \u001b[39m=\u001b[39m pt\u001b[39m.\u001b[39mfind_gui_and_backend(gui, \u001b[39mself\u001b[39m\u001b[39m.\u001b[39mpylab_gui_select)\n",
      "File \u001b[1;32m~\\AppData\\Roaming\\Python\\Python312-32\\site-packages\\matplotlib_inline\\__init__.py:1\u001b[0m\n\u001b[1;32m----> 1\u001b[0m \u001b[39mfrom\u001b[39;00m \u001b[39m.\u001b[39;00m \u001b[39mimport\u001b[39;00m backend_inline, config  \u001b[39m# noqa\u001b[39;00m\n\u001b[0;32m      2\u001b[0m __version__ \u001b[39m=\u001b[39m \u001b[39m\"\u001b[39m\u001b[39m0.1.6\u001b[39m\u001b[39m\"\u001b[39m  \u001b[39m# noqa\u001b[39;00m\n",
      "File \u001b[1;32m~\\AppData\\Roaming\\Python\\Python312-32\\site-packages\\matplotlib_inline\\backend_inline.py:6\u001b[0m\n\u001b[0;32m      1\u001b[0m \u001b[39m\"\"\"A matplotlib backend for publishing figures via display_data\"\"\"\u001b[39;00m\n\u001b[0;32m      3\u001b[0m \u001b[39m# Copyright (c) IPython Development Team.\u001b[39;00m\n\u001b[0;32m      4\u001b[0m \u001b[39m# Distributed under the terms of the BSD 3-Clause License.\u001b[39;00m\n\u001b[1;32m----> 6\u001b[0m \u001b[39mimport\u001b[39;00m \u001b[39mmatplotlib\u001b[39;00m\n\u001b[0;32m      7\u001b[0m \u001b[39mfrom\u001b[39;00m \u001b[39mmatplotlib\u001b[39;00m \u001b[39mimport\u001b[39;00m colors\n\u001b[0;32m      8\u001b[0m \u001b[39mfrom\u001b[39;00m \u001b[39mmatplotlib\u001b[39;00m\u001b[39m.\u001b[39;00m\u001b[39mbackends\u001b[39;00m \u001b[39mimport\u001b[39;00m backend_agg\n",
      "\u001b[1;31mModuleNotFoundError\u001b[0m: No module named 'matplotlib'"
     ]
    }
   ],
   "source": [
    "%matplotlib inline\n",
    "import matplotlib.pyplot as plt\n",
    "\n",
    "def visualize_tour(tour, style = 'bo-'):\n",
    "    if len(tour) > 1000: plt.figure(figsize = (15,10))\n",
    "    start = tour [0:1]\n",
    "    visualize_segment(tour + start, style)\n",
    "    visualize_segment(start, 'rD')\n",
    "\n",
    "def visualize_segment (segment,style = 'bo-'):\n",
    "    plt.plot([X(c)for c in segment], [Y(c) for c in segment], style, clip_on = False)\n",
    "    plt.axis('scaled')\n",
    "    plt.axis('off')\n",
    "\n",
    "def X (city): \"X axis\"; return city.real\n",
    "def Y (city): \"Y axis\"; return city.imag"
   ]
  },
  {
   "cell_type": "code",
   "execution_count": 12,
   "metadata": {},
   "outputs": [],
   "source": [
    "from time import process_time\n",
    "from collections import Counter\n",
    "def tsp (algorithm,cities):\n",
    "    t0 = process_time()\n",
    "    tour = algorithm(cities)\n",
    "    t1 = process_time()\n",
    "    assert Counter(tour) == Counter(cities)\n",
    "    visualize_tour(tour)\n",
    "    print(\"{}:{} cities => tour length {:.0f}(in{:.3f} sec)\".format(name(algorithm), len(tour), distance_tour(tour),t1-t0))\n",
    "\n",
    "def name(algorithm): return algorithm.__name__.replace('_tsp','')"
   ]
  },
  {
   "cell_type": "code",
   "execution_count": 13,
   "metadata": {},
   "outputs": [],
   "source": [
    "def brute_force(cities):\n",
    "    \"generate all possible tour of the cities and choose the shortest tour.\"\n",
    "    return shortest_tour(alltours(cities))\n",
    "def shortest_tour(tours): return min(tours, key = distance_tour)"
   ]
  },
  {
   "cell_type": "code",
   "execution_count": 21,
   "metadata": {},
   "outputs": [
    {
     "name": "stdout",
     "output_type": "stream",
     "text": [
      "brute_force:10 cities => tour length 883(in3.781 sec)\n"
     ]
    },
    {
     "data": {
      "image/png": "[encoded data removed]",
      "text/plain": [
       "<Figure size 640x480 with 1 Axes>"
      ]
     },
     "metadata": {},
     "output_type": "display_data"
    }
   ],
   "source": [
    "tsp(brute_force, generate_cities(10))"
   ]
  }
 ],
 "metadata": {
  "kernelspec": {
   "display_name": "Python 3",
   "language": "python",
   "name": "python3"
  },
  "language_info": {
   "codemirror_mode": {
    "name": "ipython",
    "version": 3
   },
   "file_extension": ".py",
   "mimetype": "text/x-python",
   "name": "python",
   "nbconvert_exporter": "python",
   "pygments_lexer": "ipython3",
   "version": "3.11.5"
  }
 },
 "nbformat": 4,
 "nbformat_minor": 2
}
