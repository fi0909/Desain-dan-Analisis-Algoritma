{
 "cells": [
  {
   "cell_type": "code",
   "execution_count": 1,
   "metadata": {},
   "outputs": [
    {
     "name": "stdout",
     "output_type": "stream",
     "text": [
      "3 Adalah Angka Prima\n"
     ]
    }
   ],
   "source": [
    "#slide ke-22\n",
    "#Uji Keprimaan\n",
    "\n",
    "x = int(input('Input Satu angka bulat: '))\n",
    "\n",
    "angka_prima = True\n",
    "if((x==0) or (x==1)):\n",
    "    angka_prima = False\n",
    "else:\n",
    "    for i in range(2,(x//2)):\n",
    "        if((x%i)== 0):\n",
    "            angka_prima = False\n",
    "            break\n",
    "\n",
    "if(angka_prima):\n",
    "    print(x,'Adalah Angka Prima')\n",
    "else:\n",
    "    print(x,'bukan angka prima')"
   ]
  },
  {
   "cell_type": "code",
   "execution_count": 2,
   "metadata": {},
   "outputs": [],
   "source": [
    "#slide 25\n",
    "def polynomial_py(a,x):\n",
    "    result = 0\n",
    "    for n,a_n in enumerate(a):\n",
    "        x_power_n = 1\n",
    "        for i in range(n):\n",
    "            x_power_n *= x\n",
    "        result += a_n * x_power_n\n",
    "    return result\n"
   ]
  },
  {
   "cell_type": "code",
   "execution_count": 3,
   "metadata": {},
   "outputs": [
    {
     "name": "stdout",
     "output_type": "stream",
     "text": [
      "14.125\n"
     ]
    }
   ],
   "source": [
    "a = [1,2,0,3]# coefficient\n",
    "x = 1.5\n",
    "print(polynomial_py(a,x))"
   ]
  },
  {
   "cell_type": "code",
   "execution_count": 4,
   "metadata": {},
   "outputs": [
    {
     "name": "stdout",
     "output_type": "stream",
     "text": [
      "The orginal string is : GFG is good website\n",
      "The original list is: ['GFG', 'stie', 'Geeks', 'Tutorial']\n",
      "The list of foun subsrings : ['GFG']\n"
     ]
    }
   ],
   "source": [
    "#slide 34\n",
    "#Get Matching substring in string\n",
    "# Initializing string\n",
    "test_str = \"GFG is good website\";\n",
    "\n",
    "#initializing potential substrings\n",
    "test_list = [\"GFG\",\"stie\",\"Geeks\",\"Tutorial\"]\n",
    "\n",
    "#printing original string\n",
    "print(\"The orginal string is : \"+ test_str)\n",
    "\n",
    "#printing potential string list\n",
    "print(\"The original list is: \"+str(test_list))\n",
    "\n",
    "#using list comprehension\n",
    "#Get matching substrings in string\n",
    "res = [sub for sub in test_list if sub in test_str]\n",
    "#printing result\n",
    "print(\"The list of foun subsrings : \"+ str(res))"
   ]
  },
  {
   "cell_type": "code",
   "execution_count": 8,
   "metadata": {},
   "outputs": [
    {
     "name": "stdout",
     "output_type": "stream",
     "text": [
      "Titik:\n",
      " [[97, 84], [93, 69], [66, 96]]\n",
      "Titik:  list[0] Titik:  list[1]  : 15.524174696260024\n",
      "Titik:  list[0] Titik:  list[2]  : 33.24154027718932\n",
      "Titik:  list[1] Titik:  list[2]  : 38.18376618407357\n",
      "Jarak terdekat:\n",
      " 15.524174696260024\n"
     ]
    }
   ],
   "source": [
    "#slide 39\n",
    "from math import sqrt\n",
    "from random import randint\n",
    "titik =[]\n",
    "n = int(input('Masukan jumlah titik yang ingin anda cari jaraknya: '))\n",
    "for i in range (0,n):\n",
    "    titik.append([randint(0,100),randint(0,100)])\n",
    "print('Titik:\\n',titik)\n",
    "def hitungjarak(lis):\n",
    "    lisjarak = []\n",
    "    for i in range (0,len(lis)-1):\n",
    "        for j in range (i+1,len(lis)):\n",
    "            jarak = sqrt((lis[i][0]-lis[j][0])**2+( lis[i][1]-lis[j][1])**2)\n",
    "            lisjarak.append(jarak)\n",
    "            print('Titik: ',list[i],'Titik: ',list[j],\" :\",jarak)\n",
    "    return min(lisjarak)\n",
    "print('Jarak terdekat:\\n',hitungjarak(titik))"
   ]
  },
  {
   "cell_type": "code",
   "execution_count": null,
   "metadata": {},
   "outputs": [
    {
     "name": "stdout",
     "output_type": "stream",
     "text": [
      "100\n"
     ]
    }
   ],
   "source": [
    "#slide 68\n",
    "#Find Maximum Value in Linear Search\n",
    "\n",
    "def find_maximum(lst):\n",
    "    max = None\n",
    "    for el in lst:\n",
    "        if max == None or el > max:\n",
    "            max = el\n",
    "    return max\n",
    "test_scores = [88,93,75,100,80,67,71,92,90,83]\n",
    "print(find_maximum(test_scores)) #returns 100"
   ]
  },
  {
   "cell_type": "code",
   "execution_count": null,
   "metadata": {},
   "outputs": [
    {
     "name": "stdout",
     "output_type": "stream",
     "text": [
      "[17, 20, 26, 31, 44, 54, 55, 77, 93]\n"
     ]
    }
   ],
   "source": [
    "#slide 69\n",
    "def bubblesort(alist):\n",
    "    for passnum in range (len(alist)-1,0,-1):\n",
    "        for i in range(passnum):\n",
    "            if alist[i]>alist[i+1]:\n",
    "                temp = alist[i]\n",
    "                alist[i] = alist[i+1]\n",
    "                alist[i+1] = temp\n",
    "alist = [54,26,93,17,77,31,44,55,20]\n",
    "bubblesort(alist)\n",
    "print(alist)"
   ]
  },
  {
   "cell_type": "code",
   "execution_count": 16,
   "metadata": {},
   "outputs": [],
   "source": [
    "#slide 82\n",
    "import random\n",
    "from itertools import permutations\n",
    "alltours = permutations\n",
    "\n",
    "def distance_points(first,second):\n",
    "    return abs(first - second)\n",
    "def distance_tour(aTour):\n",
    "    return sum (distance_points(aTour[i - 1],aTour[i]) for i in range (len(aTour)))\n",
    "\n",
    "aCity = complex\n",
    "\n",
    "def generate_cities (number_of_cities):\n",
    "    seed =111;width =500;height =300\n",
    "    random.seed((number_of_cities, seed))\n",
    "    return frozenset(aCity(random.randint(1,width),random.randint(1,height))for c in range(number_of_cities))"
   ]
  },
  {
   "cell_type": "code",
   "execution_count": 14,
   "metadata": {},
   "outputs": [],
   "source": [
    "%matplotlib inline\n",
    "import matplotlib.pyplot as plt\n",
    "\n",
    "def visualize_tour(tour, style = 'bo-'):\n",
    "    if len(tour) > 1000: plt.figure(figsize = (15,10))\n",
    "    start = tour [0:1]\n",
    "    visualize_segment(tour + start, style)\n",
    "    visualize_segment(start, 'rD')\n",
    "\n",
    "def visualize_segment (segment,style = 'bo-'):\n",
    "    plt.plot([x(c)for c in segment], [y(c) for c in segment], style, clip_on = False)\n",
    "    plt.axis('scaled')\n",
    "    plt.axis('off')\n",
    "\n",
    "def X (city): \"X axis\"; return city.real\n",
    "def y (city): \"Y axis\"; return city.image"
   ]
  },
  {
   "cell_type": "code",
   "execution_count": 15,
   "metadata": {},
   "outputs": [],
   "source": [
    "from time import process_time\n",
    "from collections import Counter\n",
    "def tsp (algorithm,cities):\n",
    "    t0 = procces_time()\n",
    "    tour = algorithm(cities)\n",
    "    t1 = procces_time()\n",
    "    assert Counter(tour) == Counter(cities)\n",
    "    visualize_tour(tour)\n",
    "    print(\"{}:{} cities => tour length {:.0f}(in{:.3f} sec)\").format(name(algorithm), len(tour), distance_tour(tour),t1-t0)\n",
    "\n",
    "def name(algorithm): return algorithm.__name__.replace('_tsp','')"
   ]
  },
  {
   "cell_type": "code",
   "execution_count": 10,
   "metadata": {},
   "outputs": [],
   "source": [
    "def brute_force(cities):\n",
    "    \"generate all possible tour of the cities and choose the shortest tour.\"\n",
    "    return shortest_tour(alltours(cities))\n",
    "def shortest_tour(tours): return min(tours, key = distance_tour)"
   ]
  },
  {
   "cell_type": "code",
   "execution_count": 17,
   "metadata": {},
   "outputs": [
    {
     "ename": "TypeError",
     "evalue": "The only supported seed types are: None,\nint, float, str, bytes, and bytearray.",
     "output_type": "error",
     "traceback": [
      "\u001b[1;31m---------------------------------------------------------------------------\u001b[0m",
      "\u001b[1;31mTypeError\u001b[0m                                 Traceback (most recent call last)",
      "\u001b[1;32mc:\\Users\\croco\\OneDrive\\Documents\\GitHub\\Desain-dan-Analisis-Algoritma\\Pertemuan_7.ipynb Cell 12\u001b[0m line \u001b[0;36m1\n\u001b[1;32m----> <a href='vscode-notebook-cell:/c%3A/Users/croco/OneDrive/Documents/GitHub/Desain-dan-Analisis-Algoritma/Pertemuan_7.ipynb#X15sZmlsZQ%3D%3D?line=0'>1</a>\u001b[0m tsp(brute_force, generate_cities(\u001b[39m10\u001b[39;49m))\n",
      "\u001b[1;32mc:\\Users\\croco\\OneDrive\\Documents\\GitHub\\Desain-dan-Analisis-Algoritma\\Pertemuan_7.ipynb Cell 12\u001b[0m line \u001b[0;36m1\n\u001b[0;32m     <a href='vscode-notebook-cell:/c%3A/Users/croco/OneDrive/Documents/GitHub/Desain-dan-Analisis-Algoritma/Pertemuan_7.ipynb#X15sZmlsZQ%3D%3D?line=14'>15</a>\u001b[0m \u001b[39mdef\u001b[39;00m \u001b[39mgenerate_cities\u001b[39m (number_of_cities):\n\u001b[0;32m     <a href='vscode-notebook-cell:/c%3A/Users/croco/OneDrive/Documents/GitHub/Desain-dan-Analisis-Algoritma/Pertemuan_7.ipynb#X15sZmlsZQ%3D%3D?line=15'>16</a>\u001b[0m     seed \u001b[39m=\u001b[39m\u001b[39m111\u001b[39m;width \u001b[39m=\u001b[39m\u001b[39m500\u001b[39m;height \u001b[39m=\u001b[39m\u001b[39m300\u001b[39m\n\u001b[1;32m---> <a href='vscode-notebook-cell:/c%3A/Users/croco/OneDrive/Documents/GitHub/Desain-dan-Analisis-Algoritma/Pertemuan_7.ipynb#X15sZmlsZQ%3D%3D?line=16'>17</a>\u001b[0m     random\u001b[39m.\u001b[39;49mseed((number_of_cities, seed))\n\u001b[0;32m     <a href='vscode-notebook-cell:/c%3A/Users/croco/OneDrive/Documents/GitHub/Desain-dan-Analisis-Algoritma/Pertemuan_7.ipynb#X15sZmlsZQ%3D%3D?line=17'>18</a>\u001b[0m     \u001b[39mreturn\u001b[39;00m \u001b[39mfrozenset\u001b[39m(aCity(random\u001b[39m.\u001b[39mrandint(\u001b[39m1\u001b[39m,width),random\u001b[39m.\u001b[39mrandint(\u001b[39m1\u001b[39m,height))\u001b[39mfor\u001b[39;00m c \u001b[39min\u001b[39;00m \u001b[39mrange\u001b[39m(number_of_cities))\n",
      "File \u001b[1;32mc:\\Users\\croco\\AppData\\Local\\Programs\\Python\\Python311\\Lib\\random.py:160\u001b[0m, in \u001b[0;36mRandom.seed\u001b[1;34m(self, a, version)\u001b[0m\n\u001b[0;32m    157\u001b[0m     a \u001b[39m=\u001b[39m \u001b[39mint\u001b[39m\u001b[39m.\u001b[39mfrom_bytes(a \u001b[39m+\u001b[39m _sha512(a)\u001b[39m.\u001b[39mdigest())\n\u001b[0;32m    159\u001b[0m \u001b[39melif\u001b[39;00m \u001b[39mnot\u001b[39;00m \u001b[39misinstance\u001b[39m(a, (\u001b[39mtype\u001b[39m(\u001b[39mNone\u001b[39;00m), \u001b[39mint\u001b[39m, \u001b[39mfloat\u001b[39m, \u001b[39mstr\u001b[39m, \u001b[39mbytes\u001b[39m, \u001b[39mbytearray\u001b[39m)):\n\u001b[1;32m--> 160\u001b[0m     \u001b[39mraise\u001b[39;00m \u001b[39mTypeError\u001b[39;00m(\u001b[39m'\u001b[39m\u001b[39mThe only supported seed types are: None,\u001b[39m\u001b[39m\\n\u001b[39;00m\u001b[39m'\u001b[39m\n\u001b[0;32m    161\u001b[0m                     \u001b[39m'\u001b[39m\u001b[39mint, float, str, bytes, and bytearray.\u001b[39m\u001b[39m'\u001b[39m)\n\u001b[0;32m    163\u001b[0m \u001b[39msuper\u001b[39m()\u001b[39m.\u001b[39mseed(a)\n\u001b[0;32m    164\u001b[0m \u001b[39mself\u001b[39m\u001b[39m.\u001b[39mgauss_next \u001b[39m=\u001b[39m \u001b[39mNone\u001b[39;00m\n",
      "\u001b[1;31mTypeError\u001b[0m: The only supported seed types are: None,\nint, float, str, bytes, and bytearray."
     ]
    }
   ],
   "source": [
    "tsp(brute_force, generate_cities(10))"
   ]
  }
 ],
 "metadata": {
  "kernelspec": {
   "display_name": "Python 3",
   "language": "python",
   "name": "python3"
  },
  "language_info": {
   "codemirror_mode": {
    "name": "ipython",
    "version": 3
   },
   "file_extension": ".py",
   "mimetype": "text/x-python",
   "name": "python",
   "nbconvert_exporter": "python",
   "pygments_lexer": "ipython3",
   "version": "3.11.5"
  }
 },
 "nbformat": 4,
 "nbformat_minor": 2
}
